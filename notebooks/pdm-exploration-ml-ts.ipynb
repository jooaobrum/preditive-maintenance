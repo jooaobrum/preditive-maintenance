{
 "cells": [
  {
   "attachments": {},
   "cell_type": "markdown",
   "metadata": {},
   "source": [
    "### Import Libs"
   ]
  },
  {
   "cell_type": "code",
   "execution_count": 340,
   "metadata": {},
   "outputs": [],
   "source": [
    "import pandas as pd \n",
    "import numpy as np\n",
    "from sklearn.model_selection import train_test_split, StratifiedKFold, cross_val_score\n",
    "from feature_engine.imputation import ArbitraryNumberImputer\n",
    "from feature_engine.encoding import OneHotEncoder\n",
    "from sklearn.compose import ColumnTransformer\n",
    "from sklearn.pipeline import Pipeline\n",
    "from sklearn.preprocessing import MinMaxScaler\n",
    "from sklearn.feature_selection import mutual_info_classif\n",
    "from feature_engine.selection import SmartCorrelatedSelection\n",
    "from feature_engine.selection import DropConstantFeatures\n",
    "from sklearn.metrics import accuracy_score, precision_score, recall_score, f1_score, roc_auc_score\n",
    "from sklearn.linear_model import LogisticRegression\n",
    "from sklearn.tree import DecisionTreeClassifier\n",
    "from sklearn.ensemble import RandomForestClassifier\n",
    "from sklearn.ensemble import IsolationForest\n",
    "from catboost import CatBoostClassifier\n",
    "from xgboost import XGBClassifier"
   ]
  },
  {
   "attachments": {},
   "cell_type": "markdown",
   "metadata": {},
   "source": [
    "### Load Data"
   ]
  },
  {
   "cell_type": "code",
   "execution_count": 341,
   "metadata": {},
   "outputs": [],
   "source": [
    "df = pd.read_csv('../processed_data/features-target.csv')"
   ]
  },
  {
   "cell_type": "code",
   "execution_count": 342,
   "metadata": {},
   "outputs": [
    {
     "data": {
      "text/html": [
       "<div>\n",
       "<style scoped>\n",
       "    .dataframe tbody tr th:only-of-type {\n",
       "        vertical-align: middle;\n",
       "    }\n",
       "\n",
       "    .dataframe tbody tr th {\n",
       "        vertical-align: top;\n",
       "    }\n",
       "\n",
       "    .dataframe thead th {\n",
       "        text-align: right;\n",
       "    }\n",
       "</style>\n",
       "<table border=\"1\" class=\"dataframe\">\n",
       "  <thead>\n",
       "    <tr style=\"text-align: right;\">\n",
       "      <th></th>\n",
       "      <th>machineID</th>\n",
       "      <th>dtRef</th>\n",
       "      <th>volt_mean_24h</th>\n",
       "      <th>volt_std_24h</th>\n",
       "      <th>volt_min_24h</th>\n",
       "      <th>volt_max_24h</th>\n",
       "      <th>volt_max_rate_24h</th>\n",
       "      <th>pressure_mean_24h</th>\n",
       "      <th>pressure_std_24h</th>\n",
       "      <th>pressure_min_24h</th>\n",
       "      <th>...</th>\n",
       "      <th>days_since_last_error</th>\n",
       "      <th>days_since_last_rep</th>\n",
       "      <th>model</th>\n",
       "      <th>age</th>\n",
       "      <th>count_comp2_last15days</th>\n",
       "      <th>count_comp4_last15days</th>\n",
       "      <th>count_comp3_last15days</th>\n",
       "      <th>count_comp1_last15days</th>\n",
       "      <th>avg_days_between_mtn</th>\n",
       "      <th>target</th>\n",
       "    </tr>\n",
       "  </thead>\n",
       "  <tbody>\n",
       "    <tr>\n",
       "      <th>0</th>\n",
       "      <td>1</td>\n",
       "      <td>2015-02-02</td>\n",
       "      <td>164.947744</td>\n",
       "      <td>12.526438</td>\n",
       "      <td>142.559604</td>\n",
       "      <td>190.985830</td>\n",
       "      <td>1.120290</td>\n",
       "      <td>100.862632</td>\n",
       "      <td>7.021747</td>\n",
       "      <td>87.529260</td>\n",
       "      <td>...</td>\n",
       "      <td>5.833333</td>\n",
       "      <td>12.75</td>\n",
       "      <td>model3</td>\n",
       "      <td>18</td>\n",
       "      <td>0.0</td>\n",
       "      <td>0.0</td>\n",
       "      <td>0.0</td>\n",
       "      <td>0.0</td>\n",
       "      <td>33.285714</td>\n",
       "      <td>0.0</td>\n",
       "    </tr>\n",
       "    <tr>\n",
       "      <th>1</th>\n",
       "      <td>2</td>\n",
       "      <td>2015-02-02</td>\n",
       "      <td>167.388450</td>\n",
       "      <td>17.700100</td>\n",
       "      <td>135.350069</td>\n",
       "      <td>216.299453</td>\n",
       "      <td>1.268775</td>\n",
       "      <td>99.735153</td>\n",
       "      <td>9.236172</td>\n",
       "      <td>81.742015</td>\n",
       "      <td>...</td>\n",
       "      <td>20.416667</td>\n",
       "      <td>14.75</td>\n",
       "      <td>model4</td>\n",
       "      <td>7</td>\n",
       "      <td>0.0</td>\n",
       "      <td>0.0</td>\n",
       "      <td>0.0</td>\n",
       "      <td>0.0</td>\n",
       "      <td>54.000000</td>\n",
       "      <td>0.0</td>\n",
       "    </tr>\n",
       "    <tr>\n",
       "      <th>2</th>\n",
       "      <td>3</td>\n",
       "      <td>2015-02-02</td>\n",
       "      <td>166.065714</td>\n",
       "      <td>13.018281</td>\n",
       "      <td>139.126762</td>\n",
       "      <td>192.111761</td>\n",
       "      <td>1.126894</td>\n",
       "      <td>100.077484</td>\n",
       "      <td>12.097118</td>\n",
       "      <td>78.093179</td>\n",
       "      <td>...</td>\n",
       "      <td>4.291667</td>\n",
       "      <td>10.75</td>\n",
       "      <td>model3</td>\n",
       "      <td>8</td>\n",
       "      <td>0.0</td>\n",
       "      <td>0.0</td>\n",
       "      <td>0.0</td>\n",
       "      <td>0.0</td>\n",
       "      <td>44.000000</td>\n",
       "      <td>1.0</td>\n",
       "    </tr>\n",
       "    <tr>\n",
       "      <th>3</th>\n",
       "      <td>4</td>\n",
       "      <td>2015-02-02</td>\n",
       "      <td>173.652648</td>\n",
       "      <td>12.136008</td>\n",
       "      <td>152.527285</td>\n",
       "      <td>192.391288</td>\n",
       "      <td>1.128534</td>\n",
       "      <td>100.701927</td>\n",
       "      <td>10.328765</td>\n",
       "      <td>81.286954</td>\n",
       "      <td>...</td>\n",
       "      <td>16.750000</td>\n",
       "      <td>15.75</td>\n",
       "      <td>model3</td>\n",
       "      <td>7</td>\n",
       "      <td>0.0</td>\n",
       "      <td>0.0</td>\n",
       "      <td>0.0</td>\n",
       "      <td>0.0</td>\n",
       "      <td>53.750000</td>\n",
       "      <td>0.0</td>\n",
       "    </tr>\n",
       "    <tr>\n",
       "      <th>4</th>\n",
       "      <td>5</td>\n",
       "      <td>2015-02-02</td>\n",
       "      <td>167.550151</td>\n",
       "      <td>13.873202</td>\n",
       "      <td>140.783515</td>\n",
       "      <td>195.575448</td>\n",
       "      <td>1.147212</td>\n",
       "      <td>102.314697</td>\n",
       "      <td>12.696205</td>\n",
       "      <td>76.244390</td>\n",
       "      <td>...</td>\n",
       "      <td>1.208333</td>\n",
       "      <td>8.75</td>\n",
       "      <td>model3</td>\n",
       "      <td>2</td>\n",
       "      <td>0.0</td>\n",
       "      <td>0.0</td>\n",
       "      <td>0.0</td>\n",
       "      <td>0.0</td>\n",
       "      <td>32.400000</td>\n",
       "      <td>0.0</td>\n",
       "    </tr>\n",
       "  </tbody>\n",
       "</table>\n",
       "<p>5 rows × 37 columns</p>\n",
       "</div>"
      ],
      "text/plain": [
       "   machineID       dtRef  volt_mean_24h  volt_std_24h  volt_min_24h   \n",
       "0          1  2015-02-02     164.947744     12.526438    142.559604  \\\n",
       "1          2  2015-02-02     167.388450     17.700100    135.350069   \n",
       "2          3  2015-02-02     166.065714     13.018281    139.126762   \n",
       "3          4  2015-02-02     173.652648     12.136008    152.527285   \n",
       "4          5  2015-02-02     167.550151     13.873202    140.783515   \n",
       "\n",
       "   volt_max_24h  volt_max_rate_24h  pressure_mean_24h  pressure_std_24h   \n",
       "0    190.985830           1.120290         100.862632          7.021747  \\\n",
       "1    216.299453           1.268775          99.735153          9.236172   \n",
       "2    192.111761           1.126894         100.077484         12.097118   \n",
       "3    192.391288           1.128534         100.701927         10.328765   \n",
       "4    195.575448           1.147212         102.314697         12.696205   \n",
       "\n",
       "   pressure_min_24h  ...  days_since_last_error  days_since_last_rep   model   \n",
       "0         87.529260  ...               5.833333                12.75  model3  \\\n",
       "1         81.742015  ...              20.416667                14.75  model4   \n",
       "2         78.093179  ...               4.291667                10.75  model3   \n",
       "3         81.286954  ...              16.750000                15.75  model3   \n",
       "4         76.244390  ...               1.208333                 8.75  model3   \n",
       "\n",
       "   age  count_comp2_last15days  count_comp4_last15days   \n",
       "0   18                     0.0                     0.0  \\\n",
       "1    7                     0.0                     0.0   \n",
       "2    8                     0.0                     0.0   \n",
       "3    7                     0.0                     0.0   \n",
       "4    2                     0.0                     0.0   \n",
       "\n",
       "   count_comp3_last15days  count_comp1_last15days  avg_days_between_mtn   \n",
       "0                     0.0                     0.0             33.285714  \\\n",
       "1                     0.0                     0.0             54.000000   \n",
       "2                     0.0                     0.0             44.000000   \n",
       "3                     0.0                     0.0             53.750000   \n",
       "4                     0.0                     0.0             32.400000   \n",
       "\n",
       "   target  \n",
       "0     0.0  \n",
       "1     0.0  \n",
       "2     1.0  \n",
       "3     0.0  \n",
       "4     0.0  \n",
       "\n",
       "[5 rows x 37 columns]"
      ]
     },
     "execution_count": 342,
     "metadata": {},
     "output_type": "execute_result"
    }
   ],
   "source": [
    "df.head()"
   ]
  },
  {
   "attachments": {},
   "cell_type": "markdown",
   "metadata": {},
   "source": [
    "The creation of the dataset is described in the notebook \"pdm-exploration-features.ipynb\"."
   ]
  },
  {
   "attachments": {},
   "cell_type": "markdown",
   "metadata": {},
   "source": [
    "### Data Description"
   ]
  },
  {
   "cell_type": "code",
   "execution_count": 343,
   "metadata": {},
   "outputs": [
    {
     "name": "stdout",
     "output_type": "stream",
     "text": [
      "Number of rows: 31600\n",
      "Number of columns: 37\n"
     ]
    }
   ],
   "source": [
    "print(\"Number of rows:\", df.shape[0])\n",
    "print(\"Number of columns:\", df.shape[1])"
   ]
  },
  {
   "cell_type": "code",
   "execution_count": 344,
   "metadata": {},
   "outputs": [
    {
     "data": {
      "text/plain": [
       "machineID                           int64\n",
       "dtRef                              object\n",
       "volt_mean_24h                     float64\n",
       "volt_std_24h                      float64\n",
       "volt_min_24h                      float64\n",
       "volt_max_24h                      float64\n",
       "volt_max_rate_24h                 float64\n",
       "pressure_mean_24h                 float64\n",
       "pressure_std_24h                  float64\n",
       "pressure_min_24h                  float64\n",
       "pressure_max_24h                  float64\n",
       "pressure_max_rate_24h             float64\n",
       "rotate_mean_24h                   float64\n",
       "rotate_std_24h                    float64\n",
       "rotate_min_24h                    float64\n",
       "rotate_max_24h                    float64\n",
       "rotate_max_rate_24h               float64\n",
       "vibration_mean_24h                float64\n",
       "vibration_std_24h                 float64\n",
       "vibration_min_24h                 float64\n",
       "vibration_max_24h                 float64\n",
       "vibration_max_rate_24h            float64\n",
       "volt_count_exceed_thr_24h         float64\n",
       "pressure_count_exceed_thr_24h     float64\n",
       "rotate_count_exceed_thr_24h       float64\n",
       "vibration_count_exceed_thr_24h    float64\n",
       "days_since_last_failure           float64\n",
       "days_since_last_error             float64\n",
       "days_since_last_rep               float64\n",
       "model                              object\n",
       "age                                 int64\n",
       "count_comp2_last15days            float64\n",
       "count_comp4_last15days            float64\n",
       "count_comp3_last15days            float64\n",
       "count_comp1_last15days            float64\n",
       "avg_days_between_mtn              float64\n",
       "target                            float64\n",
       "dtype: object"
      ]
     },
     "execution_count": 344,
     "metadata": {},
     "output_type": "execute_result"
    }
   ],
   "source": [
    "df.dtypes"
   ]
  },
  {
   "cell_type": "code",
   "execution_count": 345,
   "metadata": {},
   "outputs": [
    {
     "data": {
      "text/plain": [
       "machineID                            0\n",
       "dtRef                                0\n",
       "volt_mean_24h                        0\n",
       "volt_std_24h                         0\n",
       "volt_min_24h                         0\n",
       "volt_max_24h                         0\n",
       "volt_max_rate_24h                    0\n",
       "pressure_mean_24h                    0\n",
       "pressure_std_24h                     0\n",
       "pressure_min_24h                     0\n",
       "pressure_max_24h                     0\n",
       "pressure_max_rate_24h                0\n",
       "rotate_mean_24h                      0\n",
       "rotate_std_24h                       0\n",
       "rotate_min_24h                       0\n",
       "rotate_max_24h                       0\n",
       "rotate_max_rate_24h                  0\n",
       "vibration_mean_24h                   0\n",
       "vibration_std_24h                    0\n",
       "vibration_min_24h                    0\n",
       "vibration_max_24h                    0\n",
       "vibration_max_rate_24h               0\n",
       "volt_count_exceed_thr_24h            0\n",
       "pressure_count_exceed_thr_24h        0\n",
       "rotate_count_exceed_thr_24h          0\n",
       "vibration_count_exceed_thr_24h       0\n",
       "days_since_last_failure           1692\n",
       "days_since_last_error               20\n",
       "days_since_last_rep                  0\n",
       "model                                0\n",
       "age                                  0\n",
       "count_comp2_last15days               0\n",
       "count_comp4_last15days               0\n",
       "count_comp3_last15days               0\n",
       "count_comp1_last15days               0\n",
       "avg_days_between_mtn                 0\n",
       "target                               0\n",
       "dtype: int64"
      ]
     },
     "execution_count": 345,
     "metadata": {},
     "output_type": "execute_result"
    }
   ],
   "source": [
    "df.isna().sum()"
   ]
  },
  {
   "attachments": {},
   "cell_type": "markdown",
   "metadata": {},
   "source": [
    "The variable \"days_since_last_error/failure\" should indicate if a variable had an error before or not. So, since it has nan values, we can assume machines that didn't have errors or failures and this value should be very high. This is a consideration for the pre-processing part."
   ]
  },
  {
   "cell_type": "code",
   "execution_count": 346,
   "metadata": {},
   "outputs": [
    {
     "data": {
      "text/html": [
       "<div>\n",
       "<style scoped>\n",
       "    .dataframe tbody tr th:only-of-type {\n",
       "        vertical-align: middle;\n",
       "    }\n",
       "\n",
       "    .dataframe tbody tr th {\n",
       "        vertical-align: top;\n",
       "    }\n",
       "\n",
       "    .dataframe thead th {\n",
       "        text-align: right;\n",
       "    }\n",
       "</style>\n",
       "<table border=\"1\" class=\"dataframe\">\n",
       "  <thead>\n",
       "    <tr style=\"text-align: right;\">\n",
       "      <th></th>\n",
       "      <th>machineID</th>\n",
       "      <th>volt_mean_24h</th>\n",
       "      <th>volt_std_24h</th>\n",
       "      <th>volt_min_24h</th>\n",
       "      <th>volt_max_24h</th>\n",
       "      <th>volt_max_rate_24h</th>\n",
       "      <th>pressure_mean_24h</th>\n",
       "      <th>pressure_std_24h</th>\n",
       "      <th>pressure_min_24h</th>\n",
       "      <th>pressure_max_24h</th>\n",
       "      <th>...</th>\n",
       "      <th>days_since_last_failure</th>\n",
       "      <th>days_since_last_error</th>\n",
       "      <th>days_since_last_rep</th>\n",
       "      <th>age</th>\n",
       "      <th>count_comp2_last15days</th>\n",
       "      <th>count_comp4_last15days</th>\n",
       "      <th>count_comp3_last15days</th>\n",
       "      <th>count_comp1_last15days</th>\n",
       "      <th>avg_days_between_mtn</th>\n",
       "      <th>target</th>\n",
       "    </tr>\n",
       "  </thead>\n",
       "  <tbody>\n",
       "    <tr>\n",
       "      <th>count</th>\n",
       "      <td>31600.000000</td>\n",
       "      <td>31600.000000</td>\n",
       "      <td>31600.000000</td>\n",
       "      <td>31600.000000</td>\n",
       "      <td>31600.000000</td>\n",
       "      <td>31600.000000</td>\n",
       "      <td>31600.000000</td>\n",
       "      <td>31600.000000</td>\n",
       "      <td>31600.000000</td>\n",
       "      <td>31600.000000</td>\n",
       "      <td>...</td>\n",
       "      <td>29908.000000</td>\n",
       "      <td>31580.000000</td>\n",
       "      <td>31600.000000</td>\n",
       "      <td>31600.000000</td>\n",
       "      <td>31600.0</td>\n",
       "      <td>31600.0</td>\n",
       "      <td>31600.0</td>\n",
       "      <td>31600.0</td>\n",
       "      <td>31600.000000</td>\n",
       "      <td>31600.000000</td>\n",
       "    </tr>\n",
       "    <tr>\n",
       "      <th>mean</th>\n",
       "      <td>50.500000</td>\n",
       "      <td>170.760869</td>\n",
       "      <td>14.912348</td>\n",
       "      <td>141.446891</td>\n",
       "      <td>200.167114</td>\n",
       "      <td>1.174146</td>\n",
       "      <td>100.849249</td>\n",
       "      <td>10.053176</td>\n",
       "      <td>81.112933</td>\n",
       "      <td>120.645158</td>\n",
       "      <td>...</td>\n",
       "      <td>41.273556</td>\n",
       "      <td>9.717854</td>\n",
       "      <td>9.460032</td>\n",
       "      <td>11.330000</td>\n",
       "      <td>0.0</td>\n",
       "      <td>0.0</td>\n",
       "      <td>0.0</td>\n",
       "      <td>0.0</td>\n",
       "      <td>23.125695</td>\n",
       "      <td>0.151424</td>\n",
       "    </tr>\n",
       "    <tr>\n",
       "      <th>std</th>\n",
       "      <td>28.866527</td>\n",
       "      <td>4.722131</td>\n",
       "      <td>2.257656</td>\n",
       "      <td>8.309407</td>\n",
       "      <td>8.726679</td>\n",
       "      <td>0.051189</td>\n",
       "      <td>4.705546</td>\n",
       "      <td>1.718139</td>\n",
       "      <td>6.258213</td>\n",
       "      <td>7.246184</td>\n",
       "      <td>...</td>\n",
       "      <td>42.545864</td>\n",
       "      <td>9.332403</td>\n",
       "      <td>7.166314</td>\n",
       "      <td>5.827708</td>\n",
       "      <td>0.0</td>\n",
       "      <td>0.0</td>\n",
       "      <td>0.0</td>\n",
       "      <td>0.0</td>\n",
       "      <td>7.764057</td>\n",
       "      <td>0.358467</td>\n",
       "    </tr>\n",
       "    <tr>\n",
       "      <th>min</th>\n",
       "      <td>1.000000</td>\n",
       "      <td>157.745683</td>\n",
       "      <td>7.383772</td>\n",
       "      <td>97.333604</td>\n",
       "      <td>176.709005</td>\n",
       "      <td>1.036544</td>\n",
       "      <td>90.973896</td>\n",
       "      <td>4.513850</td>\n",
       "      <td>51.237106</td>\n",
       "      <td>101.486195</td>\n",
       "      <td>...</td>\n",
       "      <td>0.750000</td>\n",
       "      <td>0.000000</td>\n",
       "      <td>0.750000</td>\n",
       "      <td>0.000000</td>\n",
       "      <td>0.0</td>\n",
       "      <td>0.0</td>\n",
       "      <td>0.0</td>\n",
       "      <td>0.0</td>\n",
       "      <td>12.571429</td>\n",
       "      <td>0.000000</td>\n",
       "    </tr>\n",
       "    <tr>\n",
       "      <th>25%</th>\n",
       "      <td>25.750000</td>\n",
       "      <td>168.036829</td>\n",
       "      <td>13.343677</td>\n",
       "      <td>136.396166</td>\n",
       "      <td>194.093201</td>\n",
       "      <td>1.138517</td>\n",
       "      <td>98.682687</td>\n",
       "      <td>8.924697</td>\n",
       "      <td>77.553506</td>\n",
       "      <td>116.058943</td>\n",
       "      <td>...</td>\n",
       "      <td>12.750000</td>\n",
       "      <td>2.875000</td>\n",
       "      <td>4.750000</td>\n",
       "      <td>6.750000</td>\n",
       "      <td>0.0</td>\n",
       "      <td>0.0</td>\n",
       "      <td>0.0</td>\n",
       "      <td>0.0</td>\n",
       "      <td>18.066667</td>\n",
       "      <td>0.000000</td>\n",
       "    </tr>\n",
       "    <tr>\n",
       "      <th>50%</th>\n",
       "      <td>50.500000</td>\n",
       "      <td>170.191852</td>\n",
       "      <td>14.836994</td>\n",
       "      <td>141.811621</td>\n",
       "      <td>199.141258</td>\n",
       "      <td>1.168128</td>\n",
       "      <td>100.114529</td>\n",
       "      <td>9.921164</td>\n",
       "      <td>81.210152</td>\n",
       "      <td>119.372650</td>\n",
       "      <td>...</td>\n",
       "      <td>28.750000</td>\n",
       "      <td>6.875000</td>\n",
       "      <td>8.750000</td>\n",
       "      <td>12.000000</td>\n",
       "      <td>0.0</td>\n",
       "      <td>0.0</td>\n",
       "      <td>0.0</td>\n",
       "      <td>0.0</td>\n",
       "      <td>20.705882</td>\n",
       "      <td>0.000000</td>\n",
       "    </tr>\n",
       "    <tr>\n",
       "      <th>75%</th>\n",
       "      <td>75.250000</td>\n",
       "      <td>172.472412</td>\n",
       "      <td>16.413043</td>\n",
       "      <td>146.792443</td>\n",
       "      <td>204.924431</td>\n",
       "      <td>1.202051</td>\n",
       "      <td>101.614597</td>\n",
       "      <td>10.988817</td>\n",
       "      <td>84.409845</td>\n",
       "      <td>123.341198</td>\n",
       "      <td>...</td>\n",
       "      <td>53.750000</td>\n",
       "      <td>13.583333</td>\n",
       "      <td>12.750000</td>\n",
       "      <td>16.000000</td>\n",
       "      <td>0.0</td>\n",
       "      <td>0.0</td>\n",
       "      <td>0.0</td>\n",
       "      <td>0.0</td>\n",
       "      <td>25.555556</td>\n",
       "      <td>0.000000</td>\n",
       "    </tr>\n",
       "    <tr>\n",
       "      <th>max</th>\n",
       "      <td>100.000000</td>\n",
       "      <td>218.265191</td>\n",
       "      <td>26.725027</td>\n",
       "      <td>191.645382</td>\n",
       "      <td>255.124717</td>\n",
       "      <td>1.496518</td>\n",
       "      <td>152.314600</td>\n",
       "      <td>28.399538</td>\n",
       "      <td>136.619446</td>\n",
       "      <td>185.951998</td>\n",
       "      <td>...</td>\n",
       "      <td>292.750000</td>\n",
       "      <td>79.000000</td>\n",
       "      <td>157.750000</td>\n",
       "      <td>20.000000</td>\n",
       "      <td>0.0</td>\n",
       "      <td>0.0</td>\n",
       "      <td>0.0</td>\n",
       "      <td>0.0</td>\n",
       "      <td>70.000000</td>\n",
       "      <td>1.000000</td>\n",
       "    </tr>\n",
       "  </tbody>\n",
       "</table>\n",
       "<p>8 rows × 35 columns</p>\n",
       "</div>"
      ],
      "text/plain": [
       "          machineID  volt_mean_24h  volt_std_24h  volt_min_24h  volt_max_24h   \n",
       "count  31600.000000   31600.000000  31600.000000  31600.000000  31600.000000  \\\n",
       "mean      50.500000     170.760869     14.912348    141.446891    200.167114   \n",
       "std       28.866527       4.722131      2.257656      8.309407      8.726679   \n",
       "min        1.000000     157.745683      7.383772     97.333604    176.709005   \n",
       "25%       25.750000     168.036829     13.343677    136.396166    194.093201   \n",
       "50%       50.500000     170.191852     14.836994    141.811621    199.141258   \n",
       "75%       75.250000     172.472412     16.413043    146.792443    204.924431   \n",
       "max      100.000000     218.265191     26.725027    191.645382    255.124717   \n",
       "\n",
       "       volt_max_rate_24h  pressure_mean_24h  pressure_std_24h   \n",
       "count       31600.000000       31600.000000      31600.000000  \\\n",
       "mean            1.174146         100.849249         10.053176   \n",
       "std             0.051189           4.705546          1.718139   \n",
       "min             1.036544          90.973896          4.513850   \n",
       "25%             1.138517          98.682687          8.924697   \n",
       "50%             1.168128         100.114529          9.921164   \n",
       "75%             1.202051         101.614597         10.988817   \n",
       "max             1.496518         152.314600         28.399538   \n",
       "\n",
       "       pressure_min_24h  pressure_max_24h  ...  days_since_last_failure   \n",
       "count      31600.000000      31600.000000  ...             29908.000000  \\\n",
       "mean          81.112933        120.645158  ...                41.273556   \n",
       "std            6.258213          7.246184  ...                42.545864   \n",
       "min           51.237106        101.486195  ...                 0.750000   \n",
       "25%           77.553506        116.058943  ...                12.750000   \n",
       "50%           81.210152        119.372650  ...                28.750000   \n",
       "75%           84.409845        123.341198  ...                53.750000   \n",
       "max          136.619446        185.951998  ...               292.750000   \n",
       "\n",
       "       days_since_last_error  days_since_last_rep           age   \n",
       "count           31580.000000         31600.000000  31600.000000  \\\n",
       "mean                9.717854             9.460032     11.330000   \n",
       "std                 9.332403             7.166314      5.827708   \n",
       "min                 0.000000             0.750000      0.000000   \n",
       "25%                 2.875000             4.750000      6.750000   \n",
       "50%                 6.875000             8.750000     12.000000   \n",
       "75%                13.583333            12.750000     16.000000   \n",
       "max                79.000000           157.750000     20.000000   \n",
       "\n",
       "       count_comp2_last15days  count_comp4_last15days  count_comp3_last15days   \n",
       "count                 31600.0                 31600.0                 31600.0  \\\n",
       "mean                      0.0                     0.0                     0.0   \n",
       "std                       0.0                     0.0                     0.0   \n",
       "min                       0.0                     0.0                     0.0   \n",
       "25%                       0.0                     0.0                     0.0   \n",
       "50%                       0.0                     0.0                     0.0   \n",
       "75%                       0.0                     0.0                     0.0   \n",
       "max                       0.0                     0.0                     0.0   \n",
       "\n",
       "       count_comp1_last15days  avg_days_between_mtn        target  \n",
       "count                 31600.0          31600.000000  31600.000000  \n",
       "mean                      0.0             23.125695      0.151424  \n",
       "std                       0.0              7.764057      0.358467  \n",
       "min                       0.0             12.571429      0.000000  \n",
       "25%                       0.0             18.066667      0.000000  \n",
       "50%                       0.0             20.705882      0.000000  \n",
       "75%                       0.0             25.555556      0.000000  \n",
       "max                       0.0             70.000000      1.000000  \n",
       "\n",
       "[8 rows x 35 columns]"
      ]
     },
     "execution_count": 346,
     "metadata": {},
     "output_type": "execute_result"
    }
   ],
   "source": [
    "df.describe()"
   ]
  },
  {
   "attachments": {},
   "cell_type": "markdown",
   "metadata": {},
   "source": [
    "The idea here is the pre-processing and modeling part. So, I will not take into account all other steps."
   ]
  },
  {
   "attachments": {},
   "cell_type": "markdown",
   "metadata": {},
   "source": [
    "### Split Train / OOT"
   ]
  },
  {
   "cell_type": "code",
   "execution_count": 347,
   "metadata": {},
   "outputs": [],
   "source": [
    "df_train = df[df['dtRef'] <= '2015-11-30']\n",
    "\n",
    "df_oot = df[df['dtRef'] > '2015-11-30']"
   ]
  },
  {
   "attachments": {},
   "cell_type": "markdown",
   "metadata": {},
   "source": [
    "The idea here is to separate our database in 2 things: Train and Test on new data.\n",
    "\n",
    "- Train dataset is used to TRAIN and VALIDATE our model, to do so, I will consider the examples before december.\n",
    "- Out of Time dataset is used only to TEST our model in data that is never seen by the model. This split is considered only after december."
   ]
  },
  {
   "attachments": {},
   "cell_type": "markdown",
   "metadata": {},
   "source": [
    "### Pre-Processing"
   ]
  },
  {
   "attachments": {},
   "cell_type": "markdown",
   "metadata": {},
   "source": [
    "Since we have seen before, random sampling for cross-sectional data doesn't work well to have a good validation. To separate the data in train and test, it is necessary to have the same machine ID in the same group of validation and training. To do so, we generate a random sample and 70% are in the training group and 30% are in the testing group. "
   ]
  },
  {
   "cell_type": "code",
   "execution_count": 348,
   "metadata": {},
   "outputs": [],
   "source": [
    "df_ids = df_train[['machineID']].drop_duplicates()\n",
    "np.random.seed(42)\n",
    "df_ids['wookie'] = (np.random.randint(0, 10000, df_ids.shape[0]))/10000\n",
    "df_ids=df_ids[['machineID', 'wookie']]"
   ]
  },
  {
   "cell_type": "code",
   "execution_count": 349,
   "metadata": {},
   "outputs": [
    {
     "data": {
      "text/html": [
       "<div>\n",
       "<style scoped>\n",
       "    .dataframe tbody tr th:only-of-type {\n",
       "        vertical-align: middle;\n",
       "    }\n",
       "\n",
       "    .dataframe tbody tr th {\n",
       "        vertical-align: top;\n",
       "    }\n",
       "\n",
       "    .dataframe thead th {\n",
       "        text-align: right;\n",
       "    }\n",
       "</style>\n",
       "<table border=\"1\" class=\"dataframe\">\n",
       "  <thead>\n",
       "    <tr style=\"text-align: right;\">\n",
       "      <th></th>\n",
       "      <th>machineID</th>\n",
       "      <th>wookie</th>\n",
       "      <th>MODELING_GROUP</th>\n",
       "    </tr>\n",
       "  </thead>\n",
       "  <tbody>\n",
       "    <tr>\n",
       "      <th>0</th>\n",
       "      <td>1</td>\n",
       "      <td>0.7270</td>\n",
       "      <td>VALIDATION</td>\n",
       "    </tr>\n",
       "    <tr>\n",
       "      <th>1</th>\n",
       "      <td>2</td>\n",
       "      <td>0.0860</td>\n",
       "      <td>TRAINING</td>\n",
       "    </tr>\n",
       "    <tr>\n",
       "      <th>2</th>\n",
       "      <td>3</td>\n",
       "      <td>0.5390</td>\n",
       "      <td>TRAINING</td>\n",
       "    </tr>\n",
       "    <tr>\n",
       "      <th>3</th>\n",
       "      <td>4</td>\n",
       "      <td>0.5191</td>\n",
       "      <td>TRAINING</td>\n",
       "    </tr>\n",
       "    <tr>\n",
       "      <th>4</th>\n",
       "      <td>5</td>\n",
       "      <td>0.5734</td>\n",
       "      <td>TRAINING</td>\n",
       "    </tr>\n",
       "    <tr>\n",
       "      <th>...</th>\n",
       "      <td>...</td>\n",
       "      <td>...</td>\n",
       "      <td>...</td>\n",
       "    </tr>\n",
       "    <tr>\n",
       "      <th>95</th>\n",
       "      <td>96</td>\n",
       "      <td>0.6736</td>\n",
       "      <td>TRAINING</td>\n",
       "    </tr>\n",
       "    <tr>\n",
       "      <th>96</th>\n",
       "      <td>97</td>\n",
       "      <td>0.0391</td>\n",
       "      <td>TRAINING</td>\n",
       "    </tr>\n",
       "    <tr>\n",
       "      <th>97</th>\n",
       "      <td>98</td>\n",
       "      <td>0.5892</td>\n",
       "      <td>TRAINING</td>\n",
       "    </tr>\n",
       "    <tr>\n",
       "      <th>98</th>\n",
       "      <td>99</td>\n",
       "      <td>0.3561</td>\n",
       "      <td>TRAINING</td>\n",
       "    </tr>\n",
       "    <tr>\n",
       "      <th>99</th>\n",
       "      <td>100</td>\n",
       "      <td>0.6184</td>\n",
       "      <td>TRAINING</td>\n",
       "    </tr>\n",
       "  </tbody>\n",
       "</table>\n",
       "<p>100 rows × 3 columns</p>\n",
       "</div>"
      ],
      "text/plain": [
       "    machineID  wookie MODELING_GROUP\n",
       "0           1  0.7270     VALIDATION\n",
       "1           2  0.0860       TRAINING\n",
       "2           3  0.5390       TRAINING\n",
       "3           4  0.5191       TRAINING\n",
       "4           5  0.5734       TRAINING\n",
       "..        ...     ...            ...\n",
       "95         96  0.6736       TRAINING\n",
       "96         97  0.0391       TRAINING\n",
       "97         98  0.5892       TRAINING\n",
       "98         99  0.3561       TRAINING\n",
       "99        100  0.6184       TRAINING\n",
       "\n",
       "[100 rows x 3 columns]"
      ]
     },
     "execution_count": 349,
     "metadata": {},
     "output_type": "execute_result"
    }
   ],
   "source": [
    "df_ids['MODELING_GROUP'] = np.where(((df_ids.wookie <= 0.7)), 'TRAINING', 'VALIDATION')\n",
    "df_ids"
   ]
  },
  {
   "cell_type": "code",
   "execution_count": 350,
   "metadata": {},
   "outputs": [
    {
     "data": {
      "text/plain": [
       "MODELING_GROUP\n",
       "TRAINING      68\n",
       "VALIDATION    32\n",
       "Name: wookie, dtype: int64"
      ]
     },
     "execution_count": 350,
     "metadata": {},
     "output_type": "execute_result"
    }
   ],
   "source": [
    "df_ids.groupby('MODELING_GROUP')['wookie'].count()"
   ]
  },
  {
   "cell_type": "code",
   "execution_count": 351,
   "metadata": {},
   "outputs": [],
   "source": [
    "df_train = pd.merge(df_train, df_ids[['machineID', 'MODELING_GROUP']], on = 'machineID', how = 'left').sort_values(['machineID', 'dtRef'])"
   ]
  },
  {
   "cell_type": "code",
   "execution_count": 384,
   "metadata": {},
   "outputs": [],
   "source": [
    "# Split the dataset in train and test\n",
    "X_train, y_train = df_train[df_train['MODELING_GROUP'] == 'TRAINING'].drop(['target', 'MODELING_GROUP'], axis = 1), df_train[df_train['MODELING_GROUP'] == 'TRAINING'][['target']] \n",
    "X_val, y_val = df_train[df_train['MODELING_GROUP'] == 'VALIDATION'].drop(['target', 'MODELING_GROUP'], axis = 1), df_train[df_train['MODELING_GROUP'] == 'VALIDATION'][['target']] \n"
   ]
  },
  {
   "cell_type": "code",
   "execution_count": 385,
   "metadata": {},
   "outputs": [],
   "source": [
    "X_train_ids = X_train[['dtRef', 'machineID']]\n",
    "X_val_ids = X_val[['dtRef', 'machineID']]\n",
    "\n",
    "\n",
    "X_train = X_train.drop(['dtRef', 'machineID'], axis = 1)\n",
    "X_val = X_val.drop(['dtRef', 'machineID'], axis = 1)"
   ]
  },
  {
   "cell_type": "code",
   "execution_count": 354,
   "metadata": {},
   "outputs": [],
   "source": [
    "# Conver values to integer instead of float\n",
    "y_train = y_train.astype(int)\n",
    "y_val = y_val.astype(int)"
   ]
  },
  {
   "cell_type": "code",
   "execution_count": 355,
   "metadata": {},
   "outputs": [
    {
     "name": "stdout",
     "output_type": "stream",
     "text": [
      "X_train: (20536, 34)\n",
      "X_val: (9664, 34)\n",
      "y_train: (20536, 1)\n",
      "y_val: (9664, 1)\n"
     ]
    }
   ],
   "source": [
    "print('X_train:', X_train.shape)\n",
    "print('X_val:', X_val.shape)\n",
    "print('y_train:', y_train.shape)\n",
    "print('y_val:', y_val.shape)"
   ]
  },
  {
   "cell_type": "code",
   "execution_count": 356,
   "metadata": {},
   "outputs": [
    {
     "data": {
      "text/plain": [
       "target\n",
       "0         0.852211\n",
       "1         0.147789\n",
       "Name: proportion, dtype: float64"
      ]
     },
     "execution_count": 356,
     "metadata": {},
     "output_type": "execute_result"
    }
   ],
   "source": [
    "# Target proportion\n",
    "y_train.value_counts(normalize = True)"
   ]
  },
  {
   "cell_type": "code",
   "execution_count": 357,
   "metadata": {},
   "outputs": [
    {
     "data": {
      "text/plain": [
       "target\n",
       "0         0.84137\n",
       "1         0.15863\n",
       "Name: proportion, dtype: float64"
      ]
     },
     "execution_count": 357,
     "metadata": {},
     "output_type": "execute_result"
    }
   ],
   "source": [
    "# Target proportion\n",
    "y_val.value_counts(normalize = True)"
   ]
  },
  {
   "cell_type": "code",
   "execution_count": 358,
   "metadata": {},
   "outputs": [],
   "source": [
    "# Numerical features to be pre-processed by the pipeline\n",
    "numeric_features = ['volt_mean_24h', 'volt_std_24h', 'volt_min_24h',\n",
    "       'volt_max_24h', 'volt_max_rate_24h', 'pressure_mean_24h',\n",
    "       'pressure_std_24h', 'pressure_min_24h', 'pressure_max_24h',\n",
    "       'pressure_max_rate_24h', 'rotate_mean_24h', 'rotate_std_24h',\n",
    "       'rotate_min_24h', 'rotate_max_24h', 'rotate_max_rate_24h',\n",
    "       'vibration_mean_24h', 'vibration_std_24h', 'vibration_min_24h',\n",
    "       'vibration_max_24h', 'vibration_max_rate_24h',\n",
    "       'volt_count_exceed_thr_24h', 'pressure_count_exceed_thr_24h',\n",
    "       'rotate_count_exceed_thr_24h', 'vibration_count_exceed_thr_24h',\n",
    "       'days_since_last_failure', 'days_since_last_error',\n",
    "       'days_since_last_rep', 'age', 'count_comp2_last15days',\n",
    "       'count_comp4_last15days', 'count_comp3_last15days',\n",
    "       'count_comp1_last15days', 'avg_days_between_mtn']\n",
    "\n",
    "# Categorical features to be pre-processed by the pipeline\n",
    "categorical_features = ['model']\n",
    "\n",
    "# The response\n",
    "target = 'target'\n",
    "\n",
    "# Features to fill missing values\n",
    "imputer_features = ['days_since_last_failure', 'days_since_last_error']\n",
    "\n",
    "# Imputer transformation\n",
    "imputer_transformer = Pipeline(\n",
    "    steps=[(\"imputer\", ArbitraryNumberImputer(arbitrary_number=10000))]\n",
    ")\n",
    "\n",
    "# Numerical transformations\n",
    "numeric_transformer = Pipeline(\n",
    "    steps=[(\"scaler\", MinMaxScaler())]\n",
    ")\n",
    "\n",
    "# Categorical transformations\n",
    "categorical_transformer = Pipeline(\n",
    "    steps=[\n",
    "        (\"encoder\", OneHotEncoder())\n",
    "]\n",
    ")\n",
    "\n",
    "# Preprocessing pipeline\n",
    "preprocessor = ColumnTransformer(\n",
    "    transformers=[\n",
    "        (\"num\", numeric_transformer, numeric_features),\n",
    "        (\"cat\", categorical_transformer, categorical_features),\n",
    "    ],\n",
    "    remainder='passthrough'\n",
    "    \n",
    ")\n"
   ]
  },
  {
   "attachments": {},
   "cell_type": "markdown",
   "metadata": {},
   "source": [
    "### Feature Selection"
   ]
  },
  {
   "cell_type": "code",
   "execution_count": 359,
   "metadata": {},
   "outputs": [],
   "source": [
    "smart_corr = SmartCorrelatedSelection(\n",
    "    variables=None,\n",
    "    method=\"pearson\",\n",
    "    threshold=0.7,\n",
    "    missing_values=\"raise\",\n",
    "    selection_method=\"variance\"\n",
    ")"
   ]
  },
  {
   "cell_type": "code",
   "execution_count": 360,
   "metadata": {},
   "outputs": [
    {
     "name": "stderr",
     "output_type": "stream",
     "text": [
      "c:\\Users\\BRUM\\Anaconda3\\envs\\pred-maintenance\\Lib\\site-packages\\feature_engine\\variable_handling\\_variable_type_checks.py:28: UserWarning: Could not infer format, so each element will be parsed individually, falling back to `dateutil`. To ensure parsing is consistent and as-expected, please specify a format.\n",
      "  return is_datetime(pd.to_datetime(column, errors=\"ignore\", utc=True))\n"
     ]
    }
   ],
   "source": [
    "feat_selector_pipe = Pipeline([\n",
    "    ('imputer', ArbitraryNumberImputer(arbitrary_number=10000, variables = imputer_features)),\n",
    "    ('preprocessor', preprocessor),\n",
    "    ('selector_cte', DropConstantFeatures()),\n",
    "    ('selector_corr', smart_corr)\n",
    "])\n",
    "\n",
    "\n",
    "df_feat = feat_selector_pipe.fit_transform(X_train, y_train)"
   ]
  },
  {
   "cell_type": "code",
   "execution_count": 361,
   "metadata": {},
   "outputs": [
    {
     "name": "stdout",
     "output_type": "stream",
     "text": [
      "Features: ['volt_mean_24h', 'volt_std_24h', 'volt_min_24h', 'volt_max_24h', 'pressure_std_24h', 'pressure_min_24h', 'pressure_max_24h', 'rotate_mean_24h', 'rotate_std_24h', 'rotate_min_24h', 'rotate_max_rate_24h', 'vibration_mean_24h', 'vibration_std_24h', 'vibration_min_24h', 'vibration_max_rate_24h', 'volt_count_exceed_thr_24h', 'rotate_count_exceed_thr_24h', 'days_since_last_failure', 'days_since_last_error', 'days_since_last_rep', 'age', 'avg_days_between_mtn', 'model_model4', 'model_model3', 'model_model2', 'model_model1']\n",
      "Number of Selected Features: 26\n"
     ]
    }
   ],
   "source": [
    "all_vars = list(feat_selector_pipe['preprocessor'].get_feature_names_out())\n",
    "idx = [int(x[1:]) for x in df_feat.columns]\n",
    "\n",
    "selected_features = [all_vars[i].split('__')[1] for i in idx]\n",
    "\n",
    "print(\"Features:\", selected_features)\n",
    "print(\"Number of Selected Features:\", len(selected_features))"
   ]
  },
  {
   "attachments": {},
   "cell_type": "markdown",
   "metadata": {},
   "source": [
    "### Modeling"
   ]
  },
  {
   "cell_type": "code",
   "execution_count": 362,
   "metadata": {},
   "outputs": [],
   "source": [
    "def evaluate(y_true, y_pred_prob, threshold = 0.5):\n",
    "    # convert probabilities to binary predictions\n",
    "    y_pred = (y_pred_prob > threshold).astype(int)\n",
    "    \n",
    "    accuracy = accuracy_score(y_true, y_pred)\n",
    "    precision = precision_score(y_true, y_pred)\n",
    "    recall = recall_score(y_true, y_pred)\n",
    "    f1 = f1_score(y_true, y_pred)\n",
    "    roc_auc = roc_auc_score(y_true, y_pred_prob)\n",
    "    \n",
    "    print(\"Accuracy:\", accuracy)\n",
    "    print(\"Precision:\", precision)\n",
    "    print(\"Recall:\", recall)\n",
    "    print(\"F1-score:\", f1)\n",
    "    print(\"ROC-AUC:\", roc_auc)\n",
    "    "
   ]
  },
  {
   "cell_type": "code",
   "execution_count": 363,
   "metadata": {},
   "outputs": [
    {
     "name": "stderr",
     "output_type": "stream",
     "text": [
      "c:\\Users\\BRUM\\Anaconda3\\envs\\pred-maintenance\\Lib\\site-packages\\feature_engine\\variable_handling\\_variable_type_checks.py:28: UserWarning: Could not infer format, so each element will be parsed individually, falling back to `dateutil`. To ensure parsing is consistent and as-expected, please specify a format.\n",
      "  return is_datetime(pd.to_datetime(column, errors=\"ignore\", utc=True))\n"
     ]
    },
    {
     "data": {
      "text/html": [
       "<style>#sk-container-id-6 {color: black;background-color: white;}#sk-container-id-6 pre{padding: 0;}#sk-container-id-6 div.sk-toggleable {background-color: white;}#sk-container-id-6 label.sk-toggleable__label {cursor: pointer;display: block;width: 100%;margin-bottom: 0;padding: 0.3em;box-sizing: border-box;text-align: center;}#sk-container-id-6 label.sk-toggleable__label-arrow:before {content: \"▸\";float: left;margin-right: 0.25em;color: #696969;}#sk-container-id-6 label.sk-toggleable__label-arrow:hover:before {color: black;}#sk-container-id-6 div.sk-estimator:hover label.sk-toggleable__label-arrow:before {color: black;}#sk-container-id-6 div.sk-toggleable__content {max-height: 0;max-width: 0;overflow: hidden;text-align: left;background-color: #f0f8ff;}#sk-container-id-6 div.sk-toggleable__content pre {margin: 0.2em;color: black;border-radius: 0.25em;background-color: #f0f8ff;}#sk-container-id-6 input.sk-toggleable__control:checked~div.sk-toggleable__content {max-height: 200px;max-width: 100%;overflow: auto;}#sk-container-id-6 input.sk-toggleable__control:checked~label.sk-toggleable__label-arrow:before {content: \"▾\";}#sk-container-id-6 div.sk-estimator input.sk-toggleable__control:checked~label.sk-toggleable__label {background-color: #d4ebff;}#sk-container-id-6 div.sk-label input.sk-toggleable__control:checked~label.sk-toggleable__label {background-color: #d4ebff;}#sk-container-id-6 input.sk-hidden--visually {border: 0;clip: rect(1px 1px 1px 1px);clip: rect(1px, 1px, 1px, 1px);height: 1px;margin: -1px;overflow: hidden;padding: 0;position: absolute;width: 1px;}#sk-container-id-6 div.sk-estimator {font-family: monospace;background-color: #f0f8ff;border: 1px dotted black;border-radius: 0.25em;box-sizing: border-box;margin-bottom: 0.5em;}#sk-container-id-6 div.sk-estimator:hover {background-color: #d4ebff;}#sk-container-id-6 div.sk-parallel-item::after {content: \"\";width: 100%;border-bottom: 1px solid gray;flex-grow: 1;}#sk-container-id-6 div.sk-label:hover label.sk-toggleable__label {background-color: #d4ebff;}#sk-container-id-6 div.sk-serial::before {content: \"\";position: absolute;border-left: 1px solid gray;box-sizing: border-box;top: 0;bottom: 0;left: 50%;z-index: 0;}#sk-container-id-6 div.sk-serial {display: flex;flex-direction: column;align-items: center;background-color: white;padding-right: 0.2em;padding-left: 0.2em;position: relative;}#sk-container-id-6 div.sk-item {position: relative;z-index: 1;}#sk-container-id-6 div.sk-parallel {display: flex;align-items: stretch;justify-content: center;background-color: white;position: relative;}#sk-container-id-6 div.sk-item::before, #sk-container-id-6 div.sk-parallel-item::before {content: \"\";position: absolute;border-left: 1px solid gray;box-sizing: border-box;top: 0;bottom: 0;left: 50%;z-index: -1;}#sk-container-id-6 div.sk-parallel-item {display: flex;flex-direction: column;z-index: 1;position: relative;background-color: white;}#sk-container-id-6 div.sk-parallel-item:first-child::after {align-self: flex-end;width: 50%;}#sk-container-id-6 div.sk-parallel-item:last-child::after {align-self: flex-start;width: 50%;}#sk-container-id-6 div.sk-parallel-item:only-child::after {width: 0;}#sk-container-id-6 div.sk-dashed-wrapped {border: 1px dashed gray;margin: 0 0.4em 0.5em 0.4em;box-sizing: border-box;padding-bottom: 0.4em;background-color: white;}#sk-container-id-6 div.sk-label label {font-family: monospace;font-weight: bold;display: inline-block;line-height: 1.2em;}#sk-container-id-6 div.sk-label-container {text-align: center;}#sk-container-id-6 div.sk-container {/* jupyter's `normalize.less` sets `[hidden] { display: none; }` but bootstrap.min.css set `[hidden] { display: none !important; }` so we also need the `!important` here to be able to override the default hidden behavior on the sphinx rendered scikit-learn.org. See: https://github.com/scikit-learn/scikit-learn/issues/21755 */display: inline-block !important;position: relative;}#sk-container-id-6 div.sk-text-repr-fallback {display: none;}</style><div id=\"sk-container-id-6\" class=\"sk-top-container\"><div class=\"sk-text-repr-fallback\"><pre>Pipeline(steps=[(&#x27;imputer&#x27;,\n",
       "                 ArbitraryNumberImputer(arbitrary_number=10000,\n",
       "                                        variables=[&#x27;days_since_last_failure&#x27;,\n",
       "                                                   &#x27;days_since_last_error&#x27;])),\n",
       "                (&#x27;preprocessor&#x27;,\n",
       "                 ColumnTransformer(remainder=&#x27;passthrough&#x27;,\n",
       "                                   transformers=[(&#x27;num&#x27;,\n",
       "                                                  Pipeline(steps=[(&#x27;scaler&#x27;,\n",
       "                                                                   MinMaxScaler())]),\n",
       "                                                  [&#x27;volt_mean_24h&#x27;,\n",
       "                                                   &#x27;volt_std_24h&#x27;,\n",
       "                                                   &#x27;volt_min_24h&#x27;,\n",
       "                                                   &#x27;volt_max_24h&#x27;,\n",
       "                                                   &#x27;volt_max_rate_24h&#x27;,\n",
       "                                                   &#x27;pressur...\n",
       "                                                   &#x27;days_since_last_rep&#x27;, &#x27;age&#x27;,\n",
       "                                                   &#x27;count_comp2_last15days&#x27;,\n",
       "                                                   &#x27;count_comp4_last15days&#x27;, ...]),\n",
       "                                                 (&#x27;cat&#x27;,\n",
       "                                                  Pipeline(steps=[(&#x27;encoder&#x27;,\n",
       "                                                                   OneHotEncoder())]),\n",
       "                                                  [&#x27;model&#x27;])])),\n",
       "                (&#x27;selector_cte&#x27;, DropConstantFeatures()),\n",
       "                (&#x27;selector_corr&#x27;,\n",
       "                 SmartCorrelatedSelection(missing_values=&#x27;raise&#x27;,\n",
       "                                          selection_method=&#x27;variance&#x27;,\n",
       "                                          threshold=0.7)),\n",
       "                (&#x27;model&#x27;,\n",
       "                 &lt;catboost.core.CatBoostClassifier object at 0x00000250DE594550&gt;)])</pre><b>In a Jupyter environment, please rerun this cell to show the HTML representation or trust the notebook. <br />On GitHub, the HTML representation is unable to render, please try loading this page with nbviewer.org.</b></div><div class=\"sk-container\" hidden><div class=\"sk-item sk-dashed-wrapped\"><div class=\"sk-label-container\"><div class=\"sk-label sk-toggleable\"><input class=\"sk-toggleable__control sk-hidden--visually\" id=\"sk-estimator-id-61\" type=\"checkbox\" ><label for=\"sk-estimator-id-61\" class=\"sk-toggleable__label sk-toggleable__label-arrow\">Pipeline</label><div class=\"sk-toggleable__content\"><pre>Pipeline(steps=[(&#x27;imputer&#x27;,\n",
       "                 ArbitraryNumberImputer(arbitrary_number=10000,\n",
       "                                        variables=[&#x27;days_since_last_failure&#x27;,\n",
       "                                                   &#x27;days_since_last_error&#x27;])),\n",
       "                (&#x27;preprocessor&#x27;,\n",
       "                 ColumnTransformer(remainder=&#x27;passthrough&#x27;,\n",
       "                                   transformers=[(&#x27;num&#x27;,\n",
       "                                                  Pipeline(steps=[(&#x27;scaler&#x27;,\n",
       "                                                                   MinMaxScaler())]),\n",
       "                                                  [&#x27;volt_mean_24h&#x27;,\n",
       "                                                   &#x27;volt_std_24h&#x27;,\n",
       "                                                   &#x27;volt_min_24h&#x27;,\n",
       "                                                   &#x27;volt_max_24h&#x27;,\n",
       "                                                   &#x27;volt_max_rate_24h&#x27;,\n",
       "                                                   &#x27;pressur...\n",
       "                                                   &#x27;days_since_last_rep&#x27;, &#x27;age&#x27;,\n",
       "                                                   &#x27;count_comp2_last15days&#x27;,\n",
       "                                                   &#x27;count_comp4_last15days&#x27;, ...]),\n",
       "                                                 (&#x27;cat&#x27;,\n",
       "                                                  Pipeline(steps=[(&#x27;encoder&#x27;,\n",
       "                                                                   OneHotEncoder())]),\n",
       "                                                  [&#x27;model&#x27;])])),\n",
       "                (&#x27;selector_cte&#x27;, DropConstantFeatures()),\n",
       "                (&#x27;selector_corr&#x27;,\n",
       "                 SmartCorrelatedSelection(missing_values=&#x27;raise&#x27;,\n",
       "                                          selection_method=&#x27;variance&#x27;,\n",
       "                                          threshold=0.7)),\n",
       "                (&#x27;model&#x27;,\n",
       "                 &lt;catboost.core.CatBoostClassifier object at 0x00000250DE594550&gt;)])</pre></div></div></div><div class=\"sk-serial\"><div class=\"sk-item\"><div class=\"sk-estimator sk-toggleable\"><input class=\"sk-toggleable__control sk-hidden--visually\" id=\"sk-estimator-id-62\" type=\"checkbox\" ><label for=\"sk-estimator-id-62\" class=\"sk-toggleable__label sk-toggleable__label-arrow\">ArbitraryNumberImputer</label><div class=\"sk-toggleable__content\"><pre>ArbitraryNumberImputer(arbitrary_number=10000,\n",
       "                       variables=[&#x27;days_since_last_failure&#x27;,\n",
       "                                  &#x27;days_since_last_error&#x27;])</pre></div></div></div><div class=\"sk-item sk-dashed-wrapped\"><div class=\"sk-label-container\"><div class=\"sk-label sk-toggleable\"><input class=\"sk-toggleable__control sk-hidden--visually\" id=\"sk-estimator-id-63\" type=\"checkbox\" ><label for=\"sk-estimator-id-63\" class=\"sk-toggleable__label sk-toggleable__label-arrow\">preprocessor: ColumnTransformer</label><div class=\"sk-toggleable__content\"><pre>ColumnTransformer(remainder=&#x27;passthrough&#x27;,\n",
       "                  transformers=[(&#x27;num&#x27;,\n",
       "                                 Pipeline(steps=[(&#x27;scaler&#x27;, MinMaxScaler())]),\n",
       "                                 [&#x27;volt_mean_24h&#x27;, &#x27;volt_std_24h&#x27;,\n",
       "                                  &#x27;volt_min_24h&#x27;, &#x27;volt_max_24h&#x27;,\n",
       "                                  &#x27;volt_max_rate_24h&#x27;, &#x27;pressure_mean_24h&#x27;,\n",
       "                                  &#x27;pressure_std_24h&#x27;, &#x27;pressure_min_24h&#x27;,\n",
       "                                  &#x27;pressure_max_24h&#x27;, &#x27;pressure_max_rate_24h&#x27;,\n",
       "                                  &#x27;rotate_mean_24h&#x27;, &#x27;rotate_std_24h&#x27;,\n",
       "                                  &#x27;rotate_min_24h&#x27;, &#x27;rotate_...\n",
       "                                  &#x27;vibration_max_24h&#x27;, &#x27;vibration_max_rate_24h&#x27;,\n",
       "                                  &#x27;volt_count_exceed_thr_24h&#x27;,\n",
       "                                  &#x27;pressure_count_exceed_thr_24h&#x27;,\n",
       "                                  &#x27;rotate_count_exceed_thr_24h&#x27;,\n",
       "                                  &#x27;vibration_count_exceed_thr_24h&#x27;,\n",
       "                                  &#x27;days_since_last_failure&#x27;,\n",
       "                                  &#x27;days_since_last_error&#x27;,\n",
       "                                  &#x27;days_since_last_rep&#x27;, &#x27;age&#x27;,\n",
       "                                  &#x27;count_comp2_last15days&#x27;,\n",
       "                                  &#x27;count_comp4_last15days&#x27;, ...]),\n",
       "                                (&#x27;cat&#x27;,\n",
       "                                 Pipeline(steps=[(&#x27;encoder&#x27;, OneHotEncoder())]),\n",
       "                                 [&#x27;model&#x27;])])</pre></div></div></div><div class=\"sk-parallel\"><div class=\"sk-parallel-item\"><div class=\"sk-item\"><div class=\"sk-label-container\"><div class=\"sk-label sk-toggleable\"><input class=\"sk-toggleable__control sk-hidden--visually\" id=\"sk-estimator-id-64\" type=\"checkbox\" ><label for=\"sk-estimator-id-64\" class=\"sk-toggleable__label sk-toggleable__label-arrow\">num</label><div class=\"sk-toggleable__content\"><pre>[&#x27;volt_mean_24h&#x27;, &#x27;volt_std_24h&#x27;, &#x27;volt_min_24h&#x27;, &#x27;volt_max_24h&#x27;, &#x27;volt_max_rate_24h&#x27;, &#x27;pressure_mean_24h&#x27;, &#x27;pressure_std_24h&#x27;, &#x27;pressure_min_24h&#x27;, &#x27;pressure_max_24h&#x27;, &#x27;pressure_max_rate_24h&#x27;, &#x27;rotate_mean_24h&#x27;, &#x27;rotate_std_24h&#x27;, &#x27;rotate_min_24h&#x27;, &#x27;rotate_max_24h&#x27;, &#x27;rotate_max_rate_24h&#x27;, &#x27;vibration_mean_24h&#x27;, &#x27;vibration_std_24h&#x27;, &#x27;vibration_min_24h&#x27;, &#x27;vibration_max_24h&#x27;, &#x27;vibration_max_rate_24h&#x27;, &#x27;volt_count_exceed_thr_24h&#x27;, &#x27;pressure_count_exceed_thr_24h&#x27;, &#x27;rotate_count_exceed_thr_24h&#x27;, &#x27;vibration_count_exceed_thr_24h&#x27;, &#x27;days_since_last_failure&#x27;, &#x27;days_since_last_error&#x27;, &#x27;days_since_last_rep&#x27;, &#x27;age&#x27;, &#x27;count_comp2_last15days&#x27;, &#x27;count_comp4_last15days&#x27;, &#x27;count_comp3_last15days&#x27;, &#x27;count_comp1_last15days&#x27;, &#x27;avg_days_between_mtn&#x27;]</pre></div></div></div><div class=\"sk-serial\"><div class=\"sk-item\"><div class=\"sk-serial\"><div class=\"sk-item\"><div class=\"sk-estimator sk-toggleable\"><input class=\"sk-toggleable__control sk-hidden--visually\" id=\"sk-estimator-id-65\" type=\"checkbox\" ><label for=\"sk-estimator-id-65\" class=\"sk-toggleable__label sk-toggleable__label-arrow\">MinMaxScaler</label><div class=\"sk-toggleable__content\"><pre>MinMaxScaler()</pre></div></div></div></div></div></div></div></div><div class=\"sk-parallel-item\"><div class=\"sk-item\"><div class=\"sk-label-container\"><div class=\"sk-label sk-toggleable\"><input class=\"sk-toggleable__control sk-hidden--visually\" id=\"sk-estimator-id-66\" type=\"checkbox\" ><label for=\"sk-estimator-id-66\" class=\"sk-toggleable__label sk-toggleable__label-arrow\">cat</label><div class=\"sk-toggleable__content\"><pre>[&#x27;model&#x27;]</pre></div></div></div><div class=\"sk-serial\"><div class=\"sk-item\"><div class=\"sk-serial\"><div class=\"sk-item\"><div class=\"sk-estimator sk-toggleable\"><input class=\"sk-toggleable__control sk-hidden--visually\" id=\"sk-estimator-id-67\" type=\"checkbox\" ><label for=\"sk-estimator-id-67\" class=\"sk-toggleable__label sk-toggleable__label-arrow\">OneHotEncoder</label><div class=\"sk-toggleable__content\"><pre>OneHotEncoder()</pre></div></div></div></div></div></div></div></div><div class=\"sk-parallel-item\"><div class=\"sk-item\"><div class=\"sk-label-container\"><div class=\"sk-label sk-toggleable\"><input class=\"sk-toggleable__control sk-hidden--visually\" id=\"sk-estimator-id-68\" type=\"checkbox\" ><label for=\"sk-estimator-id-68\" class=\"sk-toggleable__label sk-toggleable__label-arrow\">remainder</label><div class=\"sk-toggleable__content\"><pre>[]</pre></div></div></div><div class=\"sk-serial\"><div class=\"sk-item\"><div class=\"sk-estimator sk-toggleable\"><input class=\"sk-toggleable__control sk-hidden--visually\" id=\"sk-estimator-id-69\" type=\"checkbox\" ><label for=\"sk-estimator-id-69\" class=\"sk-toggleable__label sk-toggleable__label-arrow\">passthrough</label><div class=\"sk-toggleable__content\"><pre>passthrough</pre></div></div></div></div></div></div></div></div><div class=\"sk-item\"><div class=\"sk-estimator sk-toggleable\"><input class=\"sk-toggleable__control sk-hidden--visually\" id=\"sk-estimator-id-70\" type=\"checkbox\" ><label for=\"sk-estimator-id-70\" class=\"sk-toggleable__label sk-toggleable__label-arrow\">DropConstantFeatures</label><div class=\"sk-toggleable__content\"><pre>DropConstantFeatures()</pre></div></div></div><div class=\"sk-item\"><div class=\"sk-estimator sk-toggleable\"><input class=\"sk-toggleable__control sk-hidden--visually\" id=\"sk-estimator-id-71\" type=\"checkbox\" ><label for=\"sk-estimator-id-71\" class=\"sk-toggleable__label sk-toggleable__label-arrow\">SmartCorrelatedSelection</label><div class=\"sk-toggleable__content\"><pre>SmartCorrelatedSelection(missing_values=&#x27;raise&#x27;, selection_method=&#x27;variance&#x27;,\n",
       "                         threshold=0.7)</pre></div></div></div><div class=\"sk-item\"><div class=\"sk-estimator sk-toggleable\"><input class=\"sk-toggleable__control sk-hidden--visually\" id=\"sk-estimator-id-72\" type=\"checkbox\" ><label for=\"sk-estimator-id-72\" class=\"sk-toggleable__label sk-toggleable__label-arrow\">CatBoostClassifier</label><div class=\"sk-toggleable__content\"><pre>&lt;catboost.core.CatBoostClassifier object at 0x00000250DE594550&gt;</pre></div></div></div></div></div></div></div>"
      ],
      "text/plain": [
       "Pipeline(steps=[('imputer',\n",
       "                 ArbitraryNumberImputer(arbitrary_number=10000,\n",
       "                                        variables=['days_since_last_failure',\n",
       "                                                   'days_since_last_error'])),\n",
       "                ('preprocessor',\n",
       "                 ColumnTransformer(remainder='passthrough',\n",
       "                                   transformers=[('num',\n",
       "                                                  Pipeline(steps=[('scaler',\n",
       "                                                                   MinMaxScaler())]),\n",
       "                                                  ['volt_mean_24h',\n",
       "                                                   'volt_std_24h',\n",
       "                                                   'volt_min_24h',\n",
       "                                                   'volt_max_24h',\n",
       "                                                   'volt_max_rate_24h',\n",
       "                                                   'pressur...\n",
       "                                                   'days_since_last_rep', 'age',\n",
       "                                                   'count_comp2_last15days',\n",
       "                                                   'count_comp4_last15days', ...]),\n",
       "                                                 ('cat',\n",
       "                                                  Pipeline(steps=[('encoder',\n",
       "                                                                   OneHotEncoder())]),\n",
       "                                                  ['model'])])),\n",
       "                ('selector_cte', DropConstantFeatures()),\n",
       "                ('selector_corr',\n",
       "                 SmartCorrelatedSelection(missing_values='raise',\n",
       "                                          selection_method='variance',\n",
       "                                          threshold=0.7)),\n",
       "                ('model',\n",
       "                 <catboost.core.CatBoostClassifier object at 0x00000250DE594550>)])"
      ]
     },
     "execution_count": 363,
     "metadata": {},
     "output_type": "execute_result"
    }
   ],
   "source": [
    "model = CatBoostClassifier(random_state = 42,\n",
    "                           n_estimators = 300,\n",
    "                           depth = 3,\n",
    "                           reg_lambda = 4,\n",
    "                           verbose = False)\n",
    "\n",
    "\n",
    "model_pipe = Pipeline([\n",
    "                        ('imputer', ArbitraryNumberImputer(arbitrary_number=10000, variables = imputer_features)),\n",
    "                        ('preprocessor', preprocessor),\n",
    "                        ('selector_cte', DropConstantFeatures()),\n",
    "                        ('selector_corr', smart_corr),\n",
    "                        ('model', model)\n",
    "                        ])\n",
    "\n",
    "model_pipe.fit(X_train, y_train)"
   ]
  },
  {
   "cell_type": "code",
   "execution_count": 377,
   "metadata": {},
   "outputs": [],
   "source": [
    "y_train_pred = model_pipe.predict_proba(X_train)[:, 1]\n",
    "y_val_pred = model_pipe.predict_proba(X_val)[:, 1]\n",
    "y_oot_pred = model_pipe.predict_proba(df_oot.drop(['dtRef', 'machineID', 'target'], axis = 1))[:, 1]"
   ]
  },
  {
   "cell_type": "code",
   "execution_count": 365,
   "metadata": {},
   "outputs": [
    {
     "name": "stdout",
     "output_type": "stream",
     "text": [
      "Training:\n",
      "Accuracy: 0.8823529411764706\n",
      "Precision: 0.873341375150784\n",
      "Recall: 0.2385502471169687\n",
      "F1-score: 0.3747412008281573\n",
      "ROC-AUC: 0.9150877045670348\n",
      "\n",
      "\n",
      "Validation:\n",
      "Accuracy: 0.8693087748344371\n",
      "Precision: 0.8571428571428571\n",
      "Recall: 0.21135029354207435\n",
      "F1-score: 0.3390894819466248\n",
      "ROC-AUC: 0.8981670257170921\n",
      "\n",
      "\n",
      "Out of Time:\n",
      "Accuracy: 0.86\n",
      "Precision: 0.6909090909090909\n",
      "Recall: 0.17511520737327188\n",
      "F1-score: 0.27941176470588236\n",
      "ROC-AUC: 0.8664061921771955\n"
     ]
    }
   ],
   "source": [
    "print('Training:')\n",
    "evaluate(y_train, y_train_pred, threshold = 0.5)\n",
    "print('\\n')\n",
    "print('Validation:')\n",
    "evaluate(y_val, y_val_pred, threshold = 0.5)\n",
    "print('\\n')\n",
    "print('Out of Time:')\n",
    "evaluate(df_oot['target'], y_oot_pred, threshold = 0.5)"
   ]
  },
  {
   "cell_type": "code",
   "execution_count": 210,
   "metadata": {},
   "outputs": [],
   "source": [
    "from sklearn.metrics import confusion_matrix"
   ]
  },
  {
   "cell_type": "code",
   "execution_count": 211,
   "metadata": {},
   "outputs": [
    {
     "data": {
      "text/plain": [
       "array([0.238439  , 0.15155798, 0.08134151, ..., 0.0071668 , 0.00793148,\n",
       "       0.00862463])"
      ]
     },
     "execution_count": 211,
     "metadata": {},
     "output_type": "execute_result"
    }
   ],
   "source": [
    "y_val_pred"
   ]
  },
  {
   "cell_type": "code",
   "execution_count": 212,
   "metadata": {},
   "outputs": [
    {
     "data": {
      "text/plain": [
       "array([[8077,   54],\n",
       "       [1209,  324]], dtype=int64)"
      ]
     },
     "execution_count": 212,
     "metadata": {},
     "output_type": "execute_result"
    }
   ],
   "source": [
    "confusion_matrix(y_val.values, (y_val_pred > 0.5))\n",
    "\n",
    "# TP FN\n",
    "# FP TN"
   ]
  },
  {
   "attachments": {},
   "cell_type": "markdown",
   "metadata": {},
   "source": [
    "Each failure is represented 7 times. If a machine fails on sunday, it will be flagged the whole previous week (7 days window). To decrease the number of false alarms, it is necessary to do a post-processing removing the redundant failure signals. We need to ensure that at least some period exist between each failure signal.\n",
    "The minimum time between failures is about 20 days, so we ensure this period."
   ]
  },
  {
   "cell_type": "code",
   "execution_count": 216,
   "metadata": {},
   "outputs": [],
   "source": [
    "import seaborn as sns\n",
    "import matplotlib.pyplot as plt"
   ]
  },
  {
   "cell_type": "code",
   "execution_count": 514,
   "metadata": {},
   "outputs": [],
   "source": [
    "df_failures = pd.read_csv('../data/PdM_failures.csv')\n",
    "df_failures['dtRef'] = df_failures['datetime'].apply(lambda x: x.split(' ')[0])\n",
    "df_failures = df_failures[['dtRef', 'machineID']].drop_duplicates()\n",
    "df_failures['real_failure'] = 1\n"
   ]
  },
  {
   "cell_type": "code",
   "execution_count": 525,
   "metadata": {},
   "outputs": [],
   "source": [
    "X_train_ids = pd.merge(X_train_ids, df_failures, on = ['machineID', 'dtRef'], how = 'left')\n",
    "X_val_ids = pd.merge(X_val_ids, df_failures, on = ['machineID', 'dtRef'], how = 'left')\n",
    "X_oot_ids = pd.merge(df_oot[['dtRef', 'machineID']], df_failures, on = ['machineID', 'dtRef'], how = 'left')"
   ]
  },
  {
   "cell_type": "code",
   "execution_count": 527,
   "metadata": {},
   "outputs": [],
   "source": [
    "X_train_ids = X_train_ids.fillna(0)\n",
    "X_val_ids = X_val_ids.fillna(0)\n",
    "X_oot_ids = X_oot_ids.fillna(0)"
   ]
  },
  {
   "cell_type": "code",
   "execution_count": 539,
   "metadata": {},
   "outputs": [],
   "source": [
    "threshold = 0.7\n",
    "\n",
    "y_train_pp = X_train_ids.copy()\n",
    "#y_train_pp = pd.concat([y_train_pp, y_train], axis = 1)\n",
    "y_train_pp['pred'] = (y_train_pred > threshold).astype(int)\n",
    "y_train_pp['pred_prob'] = y_train_pred\n",
    "\n",
    "y_val_pp = X_val_ids.copy()\n",
    "#y_val_pp = pd.concat([y_val_pp, y_val], axis = 1)\n",
    "y_val_pp['pred'] = (y_val_pred > threshold).astype(int)\n",
    "y_val_pp['pred_prob'] = y_val_pred\n",
    "\n",
    "\n",
    "y_oot_pp = X_oot_ids.copy()\n",
    "#y_val_pp = pd.concat([y_val_pp, y_val], axis = 1)\n",
    "y_oot_pp['pred'] = (y_oot_pred > threshold).astype(int)\n",
    "y_oot_pp['pred_prob'] = y_oot_pred\n"
   ]
  },
  {
   "cell_type": "code",
   "execution_count": 540,
   "metadata": {},
   "outputs": [],
   "source": [
    "forecast_window = 14\n",
    "df_train_machine_total = pd.DataFrame()\n",
    "for machine in y_train_pp['machineID'].unique():\n",
    "    df_train_machine = y_train_pp[y_train_pp['machineID'] == machine].sort_values('dtRef')\n",
    "    df_train_machine['pred_sum'] =(df_train_machine['pred'].rolling(min_periods=1, window=(forecast_window)).sum())\n",
    "    df_train_machine_total = pd.concat([df_train_machine_total, df_train_machine], axis = 0)\n",
    "    \n",
    "df_train_machine_total['real_pred']=np.where((df_train_machine_total.pred_sum>1), 0, df_train_machine_total.pred)\n",
    "\n",
    "\n",
    "\n",
    "df_val_machine_total = pd.DataFrame()\n",
    "for machine in y_val_pp['machineID'].unique():\n",
    "    df_val_machine = y_val_pp[y_val_pp['machineID'] == machine].sort_values('dtRef')\n",
    "    df_val_machine['pred_sum'] =(df_val_machine['pred'].rolling(min_periods=1, window=(forecast_window)).sum())\n",
    "    df_val_machine_total = pd.concat([df_val_machine_total, df_val_machine], axis = 0)\n",
    "    \n",
    "df_val_machine_total['real_pred']=np.where((df_val_machine_total.pred_sum>1), 0, df_val_machine_total.pred)\n",
    "\n",
    "\n",
    "\n",
    "df_oot_machine_total = pd.DataFrame()\n",
    "for machine in y_oot_pp['machineID'].unique():\n",
    "    df_oot_machine = y_oot_pp[y_oot_pp['machineID'] == machine].sort_values('dtRef')\n",
    "    df_oot_machine['pred_sum'] =(df_oot_machine['pred'].rolling(min_periods=1, window=(forecast_window)).sum())\n",
    "    df_oot_machine_total = pd.concat([df_oot_machine_total, df_oot_machine], axis = 0)\n",
    "    \n",
    "df_oot_machine_total['real_pred']=np.where((df_oot_machine_total.pred_sum>1), 0, df_oot_machine_total.pred)"
   ]
  },
  {
   "cell_type": "code",
   "execution_count": 541,
   "metadata": {},
   "outputs": [
    {
     "data": {
      "text/html": [
       "<div>\n",
       "<style scoped>\n",
       "    .dataframe tbody tr th:only-of-type {\n",
       "        vertical-align: middle;\n",
       "    }\n",
       "\n",
       "    .dataframe tbody tr th {\n",
       "        vertical-align: top;\n",
       "    }\n",
       "\n",
       "    .dataframe thead th {\n",
       "        text-align: right;\n",
       "    }\n",
       "</style>\n",
       "<table border=\"1\" class=\"dataframe\">\n",
       "  <thead>\n",
       "    <tr style=\"text-align: right;\">\n",
       "      <th></th>\n",
       "      <th>dtRef</th>\n",
       "      <th>machineID</th>\n",
       "      <th>real_failure</th>\n",
       "      <th>pred</th>\n",
       "      <th>pred_prob</th>\n",
       "      <th>pred_sum</th>\n",
       "      <th>real_pred</th>\n",
       "    </tr>\n",
       "  </thead>\n",
       "  <tbody>\n",
       "    <tr>\n",
       "      <th>0</th>\n",
       "      <td>2015-12-01</td>\n",
       "      <td>1</td>\n",
       "      <td>0.0</td>\n",
       "      <td>0</td>\n",
       "      <td>0.075991</td>\n",
       "      <td>0.0</td>\n",
       "      <td>0</td>\n",
       "    </tr>\n",
       "    <tr>\n",
       "      <th>100</th>\n",
       "      <td>2015-12-02</td>\n",
       "      <td>1</td>\n",
       "      <td>0.0</td>\n",
       "      <td>0</td>\n",
       "      <td>0.005119</td>\n",
       "      <td>0.0</td>\n",
       "      <td>0</td>\n",
       "    </tr>\n",
       "    <tr>\n",
       "      <th>200</th>\n",
       "      <td>2015-12-03</td>\n",
       "      <td>1</td>\n",
       "      <td>0.0</td>\n",
       "      <td>0</td>\n",
       "      <td>0.007342</td>\n",
       "      <td>0.0</td>\n",
       "      <td>0</td>\n",
       "    </tr>\n",
       "    <tr>\n",
       "      <th>300</th>\n",
       "      <td>2015-12-04</td>\n",
       "      <td>1</td>\n",
       "      <td>0.0</td>\n",
       "      <td>0</td>\n",
       "      <td>0.004935</td>\n",
       "      <td>0.0</td>\n",
       "      <td>0</td>\n",
       "    </tr>\n",
       "    <tr>\n",
       "      <th>400</th>\n",
       "      <td>2015-12-05</td>\n",
       "      <td>1</td>\n",
       "      <td>0.0</td>\n",
       "      <td>0</td>\n",
       "      <td>0.003685</td>\n",
       "      <td>0.0</td>\n",
       "      <td>0</td>\n",
       "    </tr>\n",
       "    <tr>\n",
       "      <th>...</th>\n",
       "      <td>...</td>\n",
       "      <td>...</td>\n",
       "      <td>...</td>\n",
       "      <td>...</td>\n",
       "      <td>...</td>\n",
       "      <td>...</td>\n",
       "      <td>...</td>\n",
       "    </tr>\n",
       "    <tr>\n",
       "      <th>999</th>\n",
       "      <td>2015-12-10</td>\n",
       "      <td>100</td>\n",
       "      <td>0.0</td>\n",
       "      <td>0</td>\n",
       "      <td>0.002169</td>\n",
       "      <td>1.0</td>\n",
       "      <td>0</td>\n",
       "    </tr>\n",
       "    <tr>\n",
       "      <th>1099</th>\n",
       "      <td>2015-12-11</td>\n",
       "      <td>100</td>\n",
       "      <td>0.0</td>\n",
       "      <td>0</td>\n",
       "      <td>0.002307</td>\n",
       "      <td>1.0</td>\n",
       "      <td>0</td>\n",
       "    </tr>\n",
       "    <tr>\n",
       "      <th>1199</th>\n",
       "      <td>2015-12-12</td>\n",
       "      <td>100</td>\n",
       "      <td>0.0</td>\n",
       "      <td>0</td>\n",
       "      <td>0.002388</td>\n",
       "      <td>1.0</td>\n",
       "      <td>0</td>\n",
       "    </tr>\n",
       "    <tr>\n",
       "      <th>1299</th>\n",
       "      <td>2015-12-13</td>\n",
       "      <td>100</td>\n",
       "      <td>0.0</td>\n",
       "      <td>0</td>\n",
       "      <td>0.002194</td>\n",
       "      <td>1.0</td>\n",
       "      <td>0</td>\n",
       "    </tr>\n",
       "    <tr>\n",
       "      <th>1399</th>\n",
       "      <td>2015-12-14</td>\n",
       "      <td>100</td>\n",
       "      <td>0.0</td>\n",
       "      <td>0</td>\n",
       "      <td>0.002129</td>\n",
       "      <td>1.0</td>\n",
       "      <td>0</td>\n",
       "    </tr>\n",
       "  </tbody>\n",
       "</table>\n",
       "<p>1400 rows × 7 columns</p>\n",
       "</div>"
      ],
      "text/plain": [
       "           dtRef  machineID  real_failure  pred  pred_prob  pred_sum   \n",
       "0     2015-12-01          1           0.0     0   0.075991       0.0  \\\n",
       "100   2015-12-02          1           0.0     0   0.005119       0.0   \n",
       "200   2015-12-03          1           0.0     0   0.007342       0.0   \n",
       "300   2015-12-04          1           0.0     0   0.004935       0.0   \n",
       "400   2015-12-05          1           0.0     0   0.003685       0.0   \n",
       "...          ...        ...           ...   ...        ...       ...   \n",
       "999   2015-12-10        100           0.0     0   0.002169       1.0   \n",
       "1099  2015-12-11        100           0.0     0   0.002307       1.0   \n",
       "1199  2015-12-12        100           0.0     0   0.002388       1.0   \n",
       "1299  2015-12-13        100           0.0     0   0.002194       1.0   \n",
       "1399  2015-12-14        100           0.0     0   0.002129       1.0   \n",
       "\n",
       "      real_pred  \n",
       "0             0  \n",
       "100           0  \n",
       "200           0  \n",
       "300           0  \n",
       "400           0  \n",
       "...         ...  \n",
       "999           0  \n",
       "1099          0  \n",
       "1199          0  \n",
       "1299          0  \n",
       "1399          0  \n",
       "\n",
       "[1400 rows x 7 columns]"
      ]
     },
     "execution_count": 541,
     "metadata": {},
     "output_type": "execute_result"
    }
   ],
   "source": [
    "df_oot_machine_total"
   ]
  },
  {
   "cell_type": "code",
   "execution_count": 544,
   "metadata": {},
   "outputs": [
    {
     "data": {
      "text/plain": [
       "(array([ 0,  1,  2,  3,  4,  5,  6,  7,  8,  9, 10, 11, 12, 13, 14, 15, 16,\n",
       "        17, 18, 19, 20, 21, 22, 23, 24, 25, 26, 27, 28, 29, 30, 31, 32, 33,\n",
       "        34, 35, 36, 37, 38, 39]),\n",
       " [Text(0, 0, '2015-02-02'),\n",
       "  Text(1, 0, '2015-02-03'),\n",
       "  Text(2, 0, '2015-02-04'),\n",
       "  Text(3, 0, '2015-02-05'),\n",
       "  Text(4, 0, '2015-02-06'),\n",
       "  Text(5, 0, '2015-02-07'),\n",
       "  Text(6, 0, '2015-02-08'),\n",
       "  Text(7, 0, '2015-02-09'),\n",
       "  Text(8, 0, '2015-02-10'),\n",
       "  Text(9, 0, '2015-02-11'),\n",
       "  Text(10, 0, '2015-02-12'),\n",
       "  Text(11, 0, '2015-02-13'),\n",
       "  Text(12, 0, '2015-02-14'),\n",
       "  Text(13, 0, '2015-02-15'),\n",
       "  Text(14, 0, '2015-02-16'),\n",
       "  Text(15, 0, '2015-02-17'),\n",
       "  Text(16, 0, '2015-02-18'),\n",
       "  Text(17, 0, '2015-02-19'),\n",
       "  Text(18, 0, '2015-02-20'),\n",
       "  Text(19, 0, '2015-02-21'),\n",
       "  Text(20, 0, '2015-02-22'),\n",
       "  Text(21, 0, '2015-02-23'),\n",
       "  Text(22, 0, '2015-02-24'),\n",
       "  Text(23, 0, '2015-02-25'),\n",
       "  Text(24, 0, '2015-02-26'),\n",
       "  Text(25, 0, '2015-02-27'),\n",
       "  Text(26, 0, '2015-02-28'),\n",
       "  Text(27, 0, '2015-03-01'),\n",
       "  Text(28, 0, '2015-03-02'),\n",
       "  Text(29, 0, '2015-03-03'),\n",
       "  Text(30, 0, '2015-03-04'),\n",
       "  Text(31, 0, '2015-03-05'),\n",
       "  Text(32, 0, '2015-03-06'),\n",
       "  Text(33, 0, '2015-03-07'),\n",
       "  Text(34, 0, '2015-03-08'),\n",
       "  Text(35, 0, '2015-03-09'),\n",
       "  Text(36, 0, '2015-03-10'),\n",
       "  Text(37, 0, '2015-03-11'),\n",
       "  Text(38, 0, '2015-03-12'),\n",
       "  Text(39, 0, '2015-03-13')])"
      ]
     },
     "execution_count": 544,
     "metadata": {},
     "output_type": "execute_result"
    },
    {
     "data": {
      "image/png": "[encoded data removed]",
      "text/plain": [
       "<Figure size 2000x500 with 1 Axes>"
      ]
     },
     "metadata": {},
     "output_type": "display_data"
    }
   ],
   "source": [
    "plt.figure(1, figsize = (20,5))\n",
    "sns.barplot(x = 'dtRef', y = 'real_pred', data = df_train_machine_total[df_train_machine_total['machineID'] == 5].iloc[:40], label = 'pred', color = 'blue')\n",
    "sns.lineplot(x = 'dtRef', y = 'pred_prob', data = df_train_machine_total[df_train_machine_total['machineID'] == 5].iloc[:40], label = 'pred', color = 'yellow')\n",
    "sns.barplot(x = 'dtRef', y = 'real_failure', data = df_train_machine_total[df_train_machine_total['machineID'] == 5].iloc[:40], label = 'target', color = 'red', alpha = 0.6)\n",
    "plt.xticks(rotation=90)"
   ]
  },
  {
   "cell_type": "code",
   "execution_count": 508,
   "metadata": {},
   "outputs": [
    {
     "data": {
      "text/plain": [
       "array([[9442,   25],\n",
       "       [  44,  153]], dtype=int64)"
      ]
     },
     "execution_count": 508,
     "metadata": {},
     "output_type": "execute_result"
    }
   ],
   "source": [
    "confusion_matrix(df_val_machine_total['real_failure'].values, df_val_machine_total['real_pred'].values)\n",
    "\n",
    "# TN FP\n",
    "# FN TP"
   ]
  },
  {
   "attachments": {},
   "cell_type": "markdown",
   "metadata": {},
   "source": [
    "Great. We achieved a reduction of 1209 False Positives to 105! This will reduce a lot the number of false alarms in the system."
   ]
  },
  {
   "cell_type": "code",
   "execution_count": 531,
   "metadata": {},
   "outputs": [
    {
     "name": "stdout",
     "output_type": "stream",
     "text": [
      "Training:\n",
      "Accuracy: 0.9903583950136345\n",
      "Precision: 0.7578347578347578\n",
      "Recall: 0.7018469656992085\n",
      "F1-score: 0.7287671232876713\n",
      "ROC-AUC: 0.8488150341717255\n",
      "\n",
      "\n",
      "Validation:\n",
      "Accuracy: 0.9928600993377483\n",
      "Precision: 0.8595505617977528\n",
      "Recall: 0.7766497461928934\n",
      "F1-score: 0.8160000000000001\n",
      "ROC-AUC: 0.8870044970533496\n",
      "\n",
      "\n",
      "Out of Time:\n",
      "Accuracy: 0.995\n",
      "Precision: 0.8636363636363636\n",
      "Recall: 0.8260869565217391\n",
      "F1-score: 0.8444444444444444\n",
      "ROC-AUC: 0.9119541536421332\n"
     ]
    }
   ],
   "source": [
    "print('Training:')\n",
    "evaluate(df_train_machine_total['real_failure'].values, df_train_machine_total['real_pred'].values, threshold = threshold)\n",
    "print('\\n')\n",
    "print('Validation:')\n",
    "evaluate(df_val_machine_total['real_failure'].values, df_val_machine_total['real_pred'].values, threshold = threshold)\n",
    "print('\\n')\n",
    "print('Out of Time:')\n",
    "evaluate(df_oot_machine_total['real_failure'].values, df_oot_machine_total['real_pred'].values, threshold = threshold)\n"
   ]
  },
  {
   "cell_type": "code",
   "execution_count": 536,
   "metadata": {},
   "outputs": [
    {
     "data": {
      "text/plain": [
       "<Axes: xlabel='dtRef', ylabel='real_failure'>"
      ]
     },
     "execution_count": 536,
     "metadata": {},
     "output_type": "execute_result"
    },
    {
     "data": {
      "image/png": "[encoded data removed]",
      "text/plain": [
       "<Figure size 2000x500 with 1 Axes>"
      ]
     },
     "metadata": {},
     "output_type": "display_data"
    }
   ],
   "source": [
    "plt.figure(1, figsize = (20,5))\n",
    "sns.barplot(x = 'dtRef', y = 'real_pred', data = df_oot_machine_total[df_oot_machine_total['machineID'] == 51], label = 'pred', color = 'blue')\n",
    "sns.barplot(x = 'dtRef', y = 'real_failure', data = df_oot_machine_total[df_oot_machine_total['machineID'] == 51], label = 'target', color = 'red', alpha = 0.6)\n",
    "#plt.xticks(rotation=90)"
   ]
  },
  {
   "attachments": {},
   "cell_type": "markdown",
   "metadata": {},
   "source": [
    "### Next Steps:\n",
    "\n",
    "- Add warning \n",
    "- Correction of validation with Warning"
   ]
  }
 ],
 "metadata": {
  "kernelspec": {
   "display_name": "pred-maintenance",
   "language": "python",
   "name": "python3"
  },
  "language_info": {
   "codemirror_mode": {
    "name": "ipython",
    "version": 3
   },
   "file_extension": ".py",
   "mimetype": "text/x-python",
   "name": "python",
   "nbconvert_exporter": "python",
   "pygments_lexer": "ipython3",
   "version": "3.11.3"
  },
  "orig_nbformat": 4
 },
 "nbformat": 4,
 "nbformat_minor": 2
}
