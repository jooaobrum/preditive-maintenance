{
 "cells": [
  {
   "attachments": {},
   "cell_type": "markdown",
   "metadata": {},
   "source": [
    "### Import Libs"
   ]
  },
  {
   "cell_type": "code",
   "execution_count": 347,
   "metadata": {},
   "outputs": [],
   "source": [
    "import pandas as pd \n",
    "import numpy as np\n",
    "from sklearn.model_selection import train_test_split, StratifiedKFold, cross_val_score\n",
    "from feature_engine.imputation import ArbitraryNumberImputer\n",
    "from feature_engine.encoding import OneHotEncoder\n",
    "from sklearn.compose import ColumnTransformer\n",
    "from sklearn.pipeline import Pipeline\n",
    "from sklearn.preprocessing import MinMaxScaler\n",
    "from sklearn.feature_selection import mutual_info_classif\n",
    "from feature_engine.selection import SmartCorrelatedSelection\n",
    "from feature_engine.selection import DropConstantFeatures\n",
    "from sklearn.metrics import accuracy_score, precision_score, recall_score, f1_score, roc_auc_score\n",
    "from sklearn.linear_model import LogisticRegression\n",
    "from sklearn.tree import DecisionTreeClassifier\n",
    "from sklearn.ensemble import RandomForestClassifier\n",
    "from sklearn.ensemble import IsolationForest\n",
    "from catboost import CatBoostClassifier\n",
    "from xgboost import XGBClassifier"
   ]
  },
  {
   "attachments": {},
   "cell_type": "markdown",
   "metadata": {},
   "source": [
    "### Load Data"
   ]
  },
  {
   "cell_type": "code",
   "execution_count": 348,
   "metadata": {},
   "outputs": [],
   "source": [
    "df = pd.read_csv('../processed_data/features-target.csv')"
   ]
  },
  {
   "cell_type": "code",
   "execution_count": 349,
   "metadata": {},
   "outputs": [
    {
     "data": {
      "text/html": [
       "<div>\n",
       "<style scoped>\n",
       "    .dataframe tbody tr th:only-of-type {\n",
       "        vertical-align: middle;\n",
       "    }\n",
       "\n",
       "    .dataframe tbody tr th {\n",
       "        vertical-align: top;\n",
       "    }\n",
       "\n",
       "    .dataframe thead th {\n",
       "        text-align: right;\n",
       "    }\n",
       "</style>\n",
       "<table border=\"1\" class=\"dataframe\">\n",
       "  <thead>\n",
       "    <tr style=\"text-align: right;\">\n",
       "      <th></th>\n",
       "      <th>machineID</th>\n",
       "      <th>dtRef</th>\n",
       "      <th>volt_mean_24h</th>\n",
       "      <th>volt_std_24h</th>\n",
       "      <th>volt_min_24h</th>\n",
       "      <th>volt_max_24h</th>\n",
       "      <th>volt_max_rate_24h</th>\n",
       "      <th>pressure_mean_24h</th>\n",
       "      <th>pressure_std_24h</th>\n",
       "      <th>pressure_min_24h</th>\n",
       "      <th>...</th>\n",
       "      <th>days_since_last_error</th>\n",
       "      <th>days_since_last_rep</th>\n",
       "      <th>model</th>\n",
       "      <th>age</th>\n",
       "      <th>count_comp2_last15days</th>\n",
       "      <th>count_comp4_last15days</th>\n",
       "      <th>count_comp3_last15days</th>\n",
       "      <th>count_comp1_last15days</th>\n",
       "      <th>avg_days_between_mtn</th>\n",
       "      <th>target</th>\n",
       "    </tr>\n",
       "  </thead>\n",
       "  <tbody>\n",
       "    <tr>\n",
       "      <th>0</th>\n",
       "      <td>1</td>\n",
       "      <td>2015-02-02</td>\n",
       "      <td>164.947744</td>\n",
       "      <td>12.526438</td>\n",
       "      <td>142.559604</td>\n",
       "      <td>190.985830</td>\n",
       "      <td>1.120290</td>\n",
       "      <td>100.862632</td>\n",
       "      <td>7.021747</td>\n",
       "      <td>87.529260</td>\n",
       "      <td>...</td>\n",
       "      <td>5.833333</td>\n",
       "      <td>12.75</td>\n",
       "      <td>model3</td>\n",
       "      <td>18</td>\n",
       "      <td>0.0</td>\n",
       "      <td>0.0</td>\n",
       "      <td>0.0</td>\n",
       "      <td>0.0</td>\n",
       "      <td>33.285714</td>\n",
       "      <td>0.0</td>\n",
       "    </tr>\n",
       "    <tr>\n",
       "      <th>1</th>\n",
       "      <td>2</td>\n",
       "      <td>2015-02-02</td>\n",
       "      <td>167.388450</td>\n",
       "      <td>17.700100</td>\n",
       "      <td>135.350069</td>\n",
       "      <td>216.299453</td>\n",
       "      <td>1.268775</td>\n",
       "      <td>99.735153</td>\n",
       "      <td>9.236172</td>\n",
       "      <td>81.742015</td>\n",
       "      <td>...</td>\n",
       "      <td>20.416667</td>\n",
       "      <td>14.75</td>\n",
       "      <td>model4</td>\n",
       "      <td>7</td>\n",
       "      <td>0.0</td>\n",
       "      <td>0.0</td>\n",
       "      <td>0.0</td>\n",
       "      <td>0.0</td>\n",
       "      <td>54.000000</td>\n",
       "      <td>0.0</td>\n",
       "    </tr>\n",
       "    <tr>\n",
       "      <th>2</th>\n",
       "      <td>3</td>\n",
       "      <td>2015-02-02</td>\n",
       "      <td>166.065714</td>\n",
       "      <td>13.018281</td>\n",
       "      <td>139.126762</td>\n",
       "      <td>192.111761</td>\n",
       "      <td>1.126894</td>\n",
       "      <td>100.077484</td>\n",
       "      <td>12.097118</td>\n",
       "      <td>78.093179</td>\n",
       "      <td>...</td>\n",
       "      <td>4.291667</td>\n",
       "      <td>10.75</td>\n",
       "      <td>model3</td>\n",
       "      <td>8</td>\n",
       "      <td>0.0</td>\n",
       "      <td>0.0</td>\n",
       "      <td>0.0</td>\n",
       "      <td>0.0</td>\n",
       "      <td>44.000000</td>\n",
       "      <td>1.0</td>\n",
       "    </tr>\n",
       "    <tr>\n",
       "      <th>3</th>\n",
       "      <td>4</td>\n",
       "      <td>2015-02-02</td>\n",
       "      <td>173.652648</td>\n",
       "      <td>12.136008</td>\n",
       "      <td>152.527285</td>\n",
       "      <td>192.391288</td>\n",
       "      <td>1.128534</td>\n",
       "      <td>100.701927</td>\n",
       "      <td>10.328765</td>\n",
       "      <td>81.286954</td>\n",
       "      <td>...</td>\n",
       "      <td>16.750000</td>\n",
       "      <td>15.75</td>\n",
       "      <td>model3</td>\n",
       "      <td>7</td>\n",
       "      <td>0.0</td>\n",
       "      <td>0.0</td>\n",
       "      <td>0.0</td>\n",
       "      <td>0.0</td>\n",
       "      <td>53.750000</td>\n",
       "      <td>0.0</td>\n",
       "    </tr>\n",
       "    <tr>\n",
       "      <th>4</th>\n",
       "      <td>5</td>\n",
       "      <td>2015-02-02</td>\n",
       "      <td>167.550151</td>\n",
       "      <td>13.873202</td>\n",
       "      <td>140.783515</td>\n",
       "      <td>195.575448</td>\n",
       "      <td>1.147212</td>\n",
       "      <td>102.314697</td>\n",
       "      <td>12.696205</td>\n",
       "      <td>76.244390</td>\n",
       "      <td>...</td>\n",
       "      <td>1.208333</td>\n",
       "      <td>8.75</td>\n",
       "      <td>model3</td>\n",
       "      <td>2</td>\n",
       "      <td>0.0</td>\n",
       "      <td>0.0</td>\n",
       "      <td>0.0</td>\n",
       "      <td>0.0</td>\n",
       "      <td>32.400000</td>\n",
       "      <td>0.0</td>\n",
       "    </tr>\n",
       "  </tbody>\n",
       "</table>\n",
       "<p>5 rows × 37 columns</p>\n",
       "</div>"
      ],
      "text/plain": [
       "   machineID       dtRef  volt_mean_24h  volt_std_24h  volt_min_24h   \n",
       "0          1  2015-02-02     164.947744     12.526438    142.559604  \\\n",
       "1          2  2015-02-02     167.388450     17.700100    135.350069   \n",
       "2          3  2015-02-02     166.065714     13.018281    139.126762   \n",
       "3          4  2015-02-02     173.652648     12.136008    152.527285   \n",
       "4          5  2015-02-02     167.550151     13.873202    140.783515   \n",
       "\n",
       "   volt_max_24h  volt_max_rate_24h  pressure_mean_24h  pressure_std_24h   \n",
       "0    190.985830           1.120290         100.862632          7.021747  \\\n",
       "1    216.299453           1.268775          99.735153          9.236172   \n",
       "2    192.111761           1.126894         100.077484         12.097118   \n",
       "3    192.391288           1.128534         100.701927         10.328765   \n",
       "4    195.575448           1.147212         102.314697         12.696205   \n",
       "\n",
       "   pressure_min_24h  ...  days_since_last_error  days_since_last_rep   model   \n",
       "0         87.529260  ...               5.833333                12.75  model3  \\\n",
       "1         81.742015  ...              20.416667                14.75  model4   \n",
       "2         78.093179  ...               4.291667                10.75  model3   \n",
       "3         81.286954  ...              16.750000                15.75  model3   \n",
       "4         76.244390  ...               1.208333                 8.75  model3   \n",
       "\n",
       "   age  count_comp2_last15days  count_comp4_last15days   \n",
       "0   18                     0.0                     0.0  \\\n",
       "1    7                     0.0                     0.0   \n",
       "2    8                     0.0                     0.0   \n",
       "3    7                     0.0                     0.0   \n",
       "4    2                     0.0                     0.0   \n",
       "\n",
       "   count_comp3_last15days  count_comp1_last15days  avg_days_between_mtn   \n",
       "0                     0.0                     0.0             33.285714  \\\n",
       "1                     0.0                     0.0             54.000000   \n",
       "2                     0.0                     0.0             44.000000   \n",
       "3                     0.0                     0.0             53.750000   \n",
       "4                     0.0                     0.0             32.400000   \n",
       "\n",
       "   target  \n",
       "0     0.0  \n",
       "1     0.0  \n",
       "2     1.0  \n",
       "3     0.0  \n",
       "4     0.0  \n",
       "\n",
       "[5 rows x 37 columns]"
      ]
     },
     "execution_count": 349,
     "metadata": {},
     "output_type": "execute_result"
    }
   ],
   "source": [
    "df.head()"
   ]
  },
  {
   "attachments": {},
   "cell_type": "markdown",
   "metadata": {},
   "source": [
    "The creation of the dataset is described in the notebook \"pdm-exploration-features.ipynb\"."
   ]
  },
  {
   "attachments": {},
   "cell_type": "markdown",
   "metadata": {},
   "source": [
    "### Data Description"
   ]
  },
  {
   "cell_type": "code",
   "execution_count": 350,
   "metadata": {},
   "outputs": [
    {
     "name": "stdout",
     "output_type": "stream",
     "text": [
      "Number of rows: 31600\n",
      "Number of columns: 37\n"
     ]
    }
   ],
   "source": [
    "print(\"Number of rows:\", df.shape[0])\n",
    "print(\"Number of columns:\", df.shape[1])"
   ]
  },
  {
   "cell_type": "code",
   "execution_count": 351,
   "metadata": {},
   "outputs": [
    {
     "data": {
      "text/plain": [
       "machineID                           int64\n",
       "dtRef                              object\n",
       "volt_mean_24h                     float64\n",
       "volt_std_24h                      float64\n",
       "volt_min_24h                      float64\n",
       "volt_max_24h                      float64\n",
       "volt_max_rate_24h                 float64\n",
       "pressure_mean_24h                 float64\n",
       "pressure_std_24h                  float64\n",
       "pressure_min_24h                  float64\n",
       "pressure_max_24h                  float64\n",
       "pressure_max_rate_24h             float64\n",
       "rotate_mean_24h                   float64\n",
       "rotate_std_24h                    float64\n",
       "rotate_min_24h                    float64\n",
       "rotate_max_24h                    float64\n",
       "rotate_max_rate_24h               float64\n",
       "vibration_mean_24h                float64\n",
       "vibration_std_24h                 float64\n",
       "vibration_min_24h                 float64\n",
       "vibration_max_24h                 float64\n",
       "vibration_max_rate_24h            float64\n",
       "volt_count_exceed_thr_24h         float64\n",
       "pressure_count_exceed_thr_24h     float64\n",
       "rotate_count_exceed_thr_24h       float64\n",
       "vibration_count_exceed_thr_24h    float64\n",
       "days_since_last_failure           float64\n",
       "days_since_last_error             float64\n",
       "days_since_last_rep               float64\n",
       "model                              object\n",
       "age                                 int64\n",
       "count_comp2_last15days            float64\n",
       "count_comp4_last15days            float64\n",
       "count_comp3_last15days            float64\n",
       "count_comp1_last15days            float64\n",
       "avg_days_between_mtn              float64\n",
       "target                            float64\n",
       "dtype: object"
      ]
     },
     "execution_count": 351,
     "metadata": {},
     "output_type": "execute_result"
    }
   ],
   "source": [
    "df.dtypes"
   ]
  },
  {
   "cell_type": "code",
   "execution_count": 352,
   "metadata": {},
   "outputs": [
    {
     "data": {
      "text/plain": [
       "machineID                            0\n",
       "dtRef                                0\n",
       "volt_mean_24h                        0\n",
       "volt_std_24h                         0\n",
       "volt_min_24h                         0\n",
       "volt_max_24h                         0\n",
       "volt_max_rate_24h                    0\n",
       "pressure_mean_24h                    0\n",
       "pressure_std_24h                     0\n",
       "pressure_min_24h                     0\n",
       "pressure_max_24h                     0\n",
       "pressure_max_rate_24h                0\n",
       "rotate_mean_24h                      0\n",
       "rotate_std_24h                       0\n",
       "rotate_min_24h                       0\n",
       "rotate_max_24h                       0\n",
       "rotate_max_rate_24h                  0\n",
       "vibration_mean_24h                   0\n",
       "vibration_std_24h                    0\n",
       "vibration_min_24h                    0\n",
       "vibration_max_24h                    0\n",
       "vibration_max_rate_24h               0\n",
       "volt_count_exceed_thr_24h            0\n",
       "pressure_count_exceed_thr_24h        0\n",
       "rotate_count_exceed_thr_24h          0\n",
       "vibration_count_exceed_thr_24h       0\n",
       "days_since_last_failure           1692\n",
       "days_since_last_error               20\n",
       "days_since_last_rep                  0\n",
       "model                                0\n",
       "age                                  0\n",
       "count_comp2_last15days               0\n",
       "count_comp4_last15days               0\n",
       "count_comp3_last15days               0\n",
       "count_comp1_last15days               0\n",
       "avg_days_between_mtn                 0\n",
       "target                               0\n",
       "dtype: int64"
      ]
     },
     "execution_count": 352,
     "metadata": {},
     "output_type": "execute_result"
    }
   ],
   "source": [
    "df.isna().sum()"
   ]
  },
  {
   "attachments": {},
   "cell_type": "markdown",
   "metadata": {},
   "source": [
    "The variable \"days_since_last_error/failure\" should indicate if a variable had an error before or not. So, since it has nan values, we can assume machines that didn't have errors or failures and this value should be very high. This is a consideration for the pre-processing part."
   ]
  },
  {
   "cell_type": "code",
   "execution_count": 353,
   "metadata": {},
   "outputs": [
    {
     "data": {
      "text/html": [
       "<div>\n",
       "<style scoped>\n",
       "    .dataframe tbody tr th:only-of-type {\n",
       "        vertical-align: middle;\n",
       "    }\n",
       "\n",
       "    .dataframe tbody tr th {\n",
       "        vertical-align: top;\n",
       "    }\n",
       "\n",
       "    .dataframe thead th {\n",
       "        text-align: right;\n",
       "    }\n",
       "</style>\n",
       "<table border=\"1\" class=\"dataframe\">\n",
       "  <thead>\n",
       "    <tr style=\"text-align: right;\">\n",
       "      <th></th>\n",
       "      <th>machineID</th>\n",
       "      <th>volt_mean_24h</th>\n",
       "      <th>volt_std_24h</th>\n",
       "      <th>volt_min_24h</th>\n",
       "      <th>volt_max_24h</th>\n",
       "      <th>volt_max_rate_24h</th>\n",
       "      <th>pressure_mean_24h</th>\n",
       "      <th>pressure_std_24h</th>\n",
       "      <th>pressure_min_24h</th>\n",
       "      <th>pressure_max_24h</th>\n",
       "      <th>...</th>\n",
       "      <th>days_since_last_failure</th>\n",
       "      <th>days_since_last_error</th>\n",
       "      <th>days_since_last_rep</th>\n",
       "      <th>age</th>\n",
       "      <th>count_comp2_last15days</th>\n",
       "      <th>count_comp4_last15days</th>\n",
       "      <th>count_comp3_last15days</th>\n",
       "      <th>count_comp1_last15days</th>\n",
       "      <th>avg_days_between_mtn</th>\n",
       "      <th>target</th>\n",
       "    </tr>\n",
       "  </thead>\n",
       "  <tbody>\n",
       "    <tr>\n",
       "      <th>count</th>\n",
       "      <td>31600.000000</td>\n",
       "      <td>31600.000000</td>\n",
       "      <td>31600.000000</td>\n",
       "      <td>31600.000000</td>\n",
       "      <td>31600.000000</td>\n",
       "      <td>31600.000000</td>\n",
       "      <td>31600.000000</td>\n",
       "      <td>31600.000000</td>\n",
       "      <td>31600.000000</td>\n",
       "      <td>31600.000000</td>\n",
       "      <td>...</td>\n",
       "      <td>29908.000000</td>\n",
       "      <td>31580.000000</td>\n",
       "      <td>31600.000000</td>\n",
       "      <td>31600.000000</td>\n",
       "      <td>31600.0</td>\n",
       "      <td>31600.0</td>\n",
       "      <td>31600.0</td>\n",
       "      <td>31600.0</td>\n",
       "      <td>31600.000000</td>\n",
       "      <td>31600.000000</td>\n",
       "    </tr>\n",
       "    <tr>\n",
       "      <th>mean</th>\n",
       "      <td>50.500000</td>\n",
       "      <td>170.760869</td>\n",
       "      <td>14.912348</td>\n",
       "      <td>141.446891</td>\n",
       "      <td>200.167114</td>\n",
       "      <td>1.174146</td>\n",
       "      <td>100.849249</td>\n",
       "      <td>10.053176</td>\n",
       "      <td>81.112933</td>\n",
       "      <td>120.645158</td>\n",
       "      <td>...</td>\n",
       "      <td>166.983767</td>\n",
       "      <td>9.717854</td>\n",
       "      <td>9.460032</td>\n",
       "      <td>11.330000</td>\n",
       "      <td>0.0</td>\n",
       "      <td>0.0</td>\n",
       "      <td>0.0</td>\n",
       "      <td>0.0</td>\n",
       "      <td>23.125695</td>\n",
       "      <td>0.151424</td>\n",
       "    </tr>\n",
       "    <tr>\n",
       "      <th>std</th>\n",
       "      <td>28.866527</td>\n",
       "      <td>4.722131</td>\n",
       "      <td>2.257656</td>\n",
       "      <td>8.309407</td>\n",
       "      <td>8.726679</td>\n",
       "      <td>0.051189</td>\n",
       "      <td>4.705546</td>\n",
       "      <td>1.718139</td>\n",
       "      <td>6.258213</td>\n",
       "      <td>7.246184</td>\n",
       "      <td>...</td>\n",
       "      <td>90.649839</td>\n",
       "      <td>9.332403</td>\n",
       "      <td>7.166314</td>\n",
       "      <td>5.827708</td>\n",
       "      <td>0.0</td>\n",
       "      <td>0.0</td>\n",
       "      <td>0.0</td>\n",
       "      <td>0.0</td>\n",
       "      <td>7.764057</td>\n",
       "      <td>0.358467</td>\n",
       "    </tr>\n",
       "    <tr>\n",
       "      <th>min</th>\n",
       "      <td>1.000000</td>\n",
       "      <td>157.745683</td>\n",
       "      <td>7.383772</td>\n",
       "      <td>97.333604</td>\n",
       "      <td>176.709005</td>\n",
       "      <td>1.036544</td>\n",
       "      <td>90.973896</td>\n",
       "      <td>4.513850</td>\n",
       "      <td>51.237106</td>\n",
       "      <td>101.486195</td>\n",
       "      <td>...</td>\n",
       "      <td>0.750000</td>\n",
       "      <td>0.000000</td>\n",
       "      <td>0.750000</td>\n",
       "      <td>0.000000</td>\n",
       "      <td>0.0</td>\n",
       "      <td>0.0</td>\n",
       "      <td>0.0</td>\n",
       "      <td>0.0</td>\n",
       "      <td>12.571429</td>\n",
       "      <td>0.000000</td>\n",
       "    </tr>\n",
       "    <tr>\n",
       "      <th>25%</th>\n",
       "      <td>25.750000</td>\n",
       "      <td>168.036829</td>\n",
       "      <td>13.343677</td>\n",
       "      <td>136.396166</td>\n",
       "      <td>194.093201</td>\n",
       "      <td>1.138517</td>\n",
       "      <td>98.682687</td>\n",
       "      <td>8.924697</td>\n",
       "      <td>77.553506</td>\n",
       "      <td>116.058943</td>\n",
       "      <td>...</td>\n",
       "      <td>89.750000</td>\n",
       "      <td>2.875000</td>\n",
       "      <td>4.750000</td>\n",
       "      <td>6.750000</td>\n",
       "      <td>0.0</td>\n",
       "      <td>0.0</td>\n",
       "      <td>0.0</td>\n",
       "      <td>0.0</td>\n",
       "      <td>18.066667</td>\n",
       "      <td>0.000000</td>\n",
       "    </tr>\n",
       "    <tr>\n",
       "      <th>50%</th>\n",
       "      <td>50.500000</td>\n",
       "      <td>170.191852</td>\n",
       "      <td>14.836994</td>\n",
       "      <td>141.811621</td>\n",
       "      <td>199.141258</td>\n",
       "      <td>1.168128</td>\n",
       "      <td>100.114529</td>\n",
       "      <td>9.921164</td>\n",
       "      <td>81.210152</td>\n",
       "      <td>119.372650</td>\n",
       "      <td>...</td>\n",
       "      <td>165.750000</td>\n",
       "      <td>6.875000</td>\n",
       "      <td>8.750000</td>\n",
       "      <td>12.000000</td>\n",
       "      <td>0.0</td>\n",
       "      <td>0.0</td>\n",
       "      <td>0.0</td>\n",
       "      <td>0.0</td>\n",
       "      <td>20.705882</td>\n",
       "      <td>0.000000</td>\n",
       "    </tr>\n",
       "    <tr>\n",
       "      <th>75%</th>\n",
       "      <td>75.250000</td>\n",
       "      <td>172.472412</td>\n",
       "      <td>16.413043</td>\n",
       "      <td>146.792443</td>\n",
       "      <td>204.924431</td>\n",
       "      <td>1.202051</td>\n",
       "      <td>101.614597</td>\n",
       "      <td>10.988817</td>\n",
       "      <td>84.409845</td>\n",
       "      <td>123.341198</td>\n",
       "      <td>...</td>\n",
       "      <td>241.875000</td>\n",
       "      <td>13.583333</td>\n",
       "      <td>12.750000</td>\n",
       "      <td>16.000000</td>\n",
       "      <td>0.0</td>\n",
       "      <td>0.0</td>\n",
       "      <td>0.0</td>\n",
       "      <td>0.0</td>\n",
       "      <td>25.555556</td>\n",
       "      <td>0.000000</td>\n",
       "    </tr>\n",
       "    <tr>\n",
       "      <th>max</th>\n",
       "      <td>100.000000</td>\n",
       "      <td>218.265191</td>\n",
       "      <td>26.725027</td>\n",
       "      <td>191.645382</td>\n",
       "      <td>255.124717</td>\n",
       "      <td>1.496518</td>\n",
       "      <td>152.314600</td>\n",
       "      <td>28.399538</td>\n",
       "      <td>136.619446</td>\n",
       "      <td>185.951998</td>\n",
       "      <td>...</td>\n",
       "      <td>345.875000</td>\n",
       "      <td>79.000000</td>\n",
       "      <td>157.750000</td>\n",
       "      <td>20.000000</td>\n",
       "      <td>0.0</td>\n",
       "      <td>0.0</td>\n",
       "      <td>0.0</td>\n",
       "      <td>0.0</td>\n",
       "      <td>70.000000</td>\n",
       "      <td>1.000000</td>\n",
       "    </tr>\n",
       "  </tbody>\n",
       "</table>\n",
       "<p>8 rows × 35 columns</p>\n",
       "</div>"
      ],
      "text/plain": [
       "          machineID  volt_mean_24h  volt_std_24h  volt_min_24h  volt_max_24h   \n",
       "count  31600.000000   31600.000000  31600.000000  31600.000000  31600.000000  \\\n",
       "mean      50.500000     170.760869     14.912348    141.446891    200.167114   \n",
       "std       28.866527       4.722131      2.257656      8.309407      8.726679   \n",
       "min        1.000000     157.745683      7.383772     97.333604    176.709005   \n",
       "25%       25.750000     168.036829     13.343677    136.396166    194.093201   \n",
       "50%       50.500000     170.191852     14.836994    141.811621    199.141258   \n",
       "75%       75.250000     172.472412     16.413043    146.792443    204.924431   \n",
       "max      100.000000     218.265191     26.725027    191.645382    255.124717   \n",
       "\n",
       "       volt_max_rate_24h  pressure_mean_24h  pressure_std_24h   \n",
       "count       31600.000000       31600.000000      31600.000000  \\\n",
       "mean            1.174146         100.849249         10.053176   \n",
       "std             0.051189           4.705546          1.718139   \n",
       "min             1.036544          90.973896          4.513850   \n",
       "25%             1.138517          98.682687          8.924697   \n",
       "50%             1.168128         100.114529          9.921164   \n",
       "75%             1.202051         101.614597         10.988817   \n",
       "max             1.496518         152.314600         28.399538   \n",
       "\n",
       "       pressure_min_24h  pressure_max_24h  ...  days_since_last_failure   \n",
       "count      31600.000000      31600.000000  ...             29908.000000  \\\n",
       "mean          81.112933        120.645158  ...               166.983767   \n",
       "std            6.258213          7.246184  ...                90.649839   \n",
       "min           51.237106        101.486195  ...                 0.750000   \n",
       "25%           77.553506        116.058943  ...                89.750000   \n",
       "50%           81.210152        119.372650  ...               165.750000   \n",
       "75%           84.409845        123.341198  ...               241.875000   \n",
       "max          136.619446        185.951998  ...               345.875000   \n",
       "\n",
       "       days_since_last_error  days_since_last_rep           age   \n",
       "count           31580.000000         31600.000000  31600.000000  \\\n",
       "mean                9.717854             9.460032     11.330000   \n",
       "std                 9.332403             7.166314      5.827708   \n",
       "min                 0.000000             0.750000      0.000000   \n",
       "25%                 2.875000             4.750000      6.750000   \n",
       "50%                 6.875000             8.750000     12.000000   \n",
       "75%                13.583333            12.750000     16.000000   \n",
       "max                79.000000           157.750000     20.000000   \n",
       "\n",
       "       count_comp2_last15days  count_comp4_last15days  count_comp3_last15days   \n",
       "count                 31600.0                 31600.0                 31600.0  \\\n",
       "mean                      0.0                     0.0                     0.0   \n",
       "std                       0.0                     0.0                     0.0   \n",
       "min                       0.0                     0.0                     0.0   \n",
       "25%                       0.0                     0.0                     0.0   \n",
       "50%                       0.0                     0.0                     0.0   \n",
       "75%                       0.0                     0.0                     0.0   \n",
       "max                       0.0                     0.0                     0.0   \n",
       "\n",
       "       count_comp1_last15days  avg_days_between_mtn        target  \n",
       "count                 31600.0          31600.000000  31600.000000  \n",
       "mean                      0.0             23.125695      0.151424  \n",
       "std                       0.0              7.764057      0.358467  \n",
       "min                       0.0             12.571429      0.000000  \n",
       "25%                       0.0             18.066667      0.000000  \n",
       "50%                       0.0             20.705882      0.000000  \n",
       "75%                       0.0             25.555556      0.000000  \n",
       "max                       0.0             70.000000      1.000000  \n",
       "\n",
       "[8 rows x 35 columns]"
      ]
     },
     "execution_count": 353,
     "metadata": {},
     "output_type": "execute_result"
    }
   ],
   "source": [
    "df.describe()"
   ]
  },
  {
   "attachments": {},
   "cell_type": "markdown",
   "metadata": {},
   "source": [
    "The idea here is the pre-processing and modeling part. So, I will not take into account all other steps."
   ]
  },
  {
   "attachments": {},
   "cell_type": "markdown",
   "metadata": {},
   "source": [
    "### Split Train / OOT"
   ]
  },
  {
   "cell_type": "code",
   "execution_count": 354,
   "metadata": {},
   "outputs": [],
   "source": [
    "df_train = df[df['dtRef'] <= '2015-11-30']\n",
    "\n",
    "df_oot = df[df['dtRef'] > '2015-11-30']"
   ]
  },
  {
   "attachments": {},
   "cell_type": "markdown",
   "metadata": {},
   "source": [
    "The idea here is to separate our database in 2 things: Train and Test on new data.\n",
    "\n",
    "- Train dataset is used to TRAIN and VALIDATE our model, to do so, I will consider the examples before december.\n",
    "- Out of Time dataset is used only to TEST our model in data that is never seen by the model. This split is considered only after december."
   ]
  },
  {
   "attachments": {},
   "cell_type": "markdown",
   "metadata": {},
   "source": [
    "### Pre-Processing"
   ]
  },
  {
   "cell_type": "code",
   "execution_count": 355,
   "metadata": {},
   "outputs": [],
   "source": [
    "# Split the dataset in trian and \n",
    "X_train, X_val, y_train, y_val = train_test_split(df_train.drop(['dtRef', 'machineID', 'target'], axis = 1), df_train['target'], test_size = 0.3, random_state=42)\n"
   ]
  },
  {
   "cell_type": "code",
   "execution_count": 356,
   "metadata": {},
   "outputs": [],
   "source": [
    "# Conver values to integer instead of float\n",
    "y_train = y_train.astype(int)\n",
    "y_val = y_val.astype(int)"
   ]
  },
  {
   "cell_type": "code",
   "execution_count": 357,
   "metadata": {},
   "outputs": [
    {
     "name": "stdout",
     "output_type": "stream",
     "text": [
      "X_train: (21140, 34)\n",
      "X_val: (9060, 34)\n",
      "y_train: (21140,)\n",
      "y_val: (9060,)\n"
     ]
    }
   ],
   "source": [
    "print('X_train:', X_train.shape)\n",
    "print('X_val:', X_val.shape)\n",
    "print('y_train:', y_train.shape)\n",
    "print('y_val:', y_val.shape)"
   ]
  },
  {
   "cell_type": "code",
   "execution_count": 358,
   "metadata": {},
   "outputs": [
    {
     "data": {
      "text/plain": [
       "target\n",
       "0    0.850615\n",
       "1    0.149385\n",
       "Name: proportion, dtype: float64"
      ]
     },
     "execution_count": 358,
     "metadata": {},
     "output_type": "execute_result"
    }
   ],
   "source": [
    "# Target proportion\n",
    "y_train.value_counts(normalize = True)"
   ]
  },
  {
   "cell_type": "code",
   "execution_count": 359,
   "metadata": {},
   "outputs": [
    {
     "data": {
      "text/plain": [
       "target\n",
       "0    0.844371\n",
       "1    0.155629\n",
       "Name: proportion, dtype: float64"
      ]
     },
     "execution_count": 359,
     "metadata": {},
     "output_type": "execute_result"
    }
   ],
   "source": [
    "# Target proportion\n",
    "y_val.value_counts(normalize = True)"
   ]
  },
  {
   "cell_type": "code",
   "execution_count": 360,
   "metadata": {},
   "outputs": [
    {
     "data": {
      "text/plain": [
       "machineID                           int64\n",
       "dtRef                              object\n",
       "volt_mean_24h                     float64\n",
       "volt_std_24h                      float64\n",
       "volt_min_24h                      float64\n",
       "volt_max_24h                      float64\n",
       "volt_max_rate_24h                 float64\n",
       "pressure_mean_24h                 float64\n",
       "pressure_std_24h                  float64\n",
       "pressure_min_24h                  float64\n",
       "pressure_max_24h                  float64\n",
       "pressure_max_rate_24h             float64\n",
       "rotate_mean_24h                   float64\n",
       "rotate_std_24h                    float64\n",
       "rotate_min_24h                    float64\n",
       "rotate_max_24h                    float64\n",
       "rotate_max_rate_24h               float64\n",
       "vibration_mean_24h                float64\n",
       "vibration_std_24h                 float64\n",
       "vibration_min_24h                 float64\n",
       "vibration_max_24h                 float64\n",
       "vibration_max_rate_24h            float64\n",
       "volt_count_exceed_thr_24h         float64\n",
       "pressure_count_exceed_thr_24h     float64\n",
       "rotate_count_exceed_thr_24h       float64\n",
       "vibration_count_exceed_thr_24h    float64\n",
       "days_since_last_failure           float64\n",
       "days_since_last_error             float64\n",
       "days_since_last_rep               float64\n",
       "model                              object\n",
       "age                                 int64\n",
       "count_comp2_last15days            float64\n",
       "count_comp4_last15days            float64\n",
       "count_comp3_last15days            float64\n",
       "count_comp1_last15days            float64\n",
       "avg_days_between_mtn              float64\n",
       "target                            float64\n",
       "dtype: object"
      ]
     },
     "execution_count": 360,
     "metadata": {},
     "output_type": "execute_result"
    }
   ],
   "source": [
    "df_train.dtypes"
   ]
  },
  {
   "cell_type": "code",
   "execution_count": 361,
   "metadata": {},
   "outputs": [],
   "source": [
    "# Numerical features to be pre-processed by the pipeline\n",
    "numeric_features = ['volt_mean_24h', 'volt_std_24h', 'volt_min_24h',\n",
    "       'volt_max_24h', 'volt_max_rate_24h', 'pressure_mean_24h',\n",
    "       'pressure_std_24h', 'pressure_min_24h', 'pressure_max_24h',\n",
    "       'pressure_max_rate_24h', 'rotate_mean_24h', 'rotate_std_24h',\n",
    "       'rotate_min_24h', 'rotate_max_24h', 'rotate_max_rate_24h',\n",
    "       'vibration_mean_24h', 'vibration_std_24h', 'vibration_min_24h',\n",
    "       'vibration_max_24h', 'vibration_max_rate_24h',\n",
    "       'volt_count_exceed_thr_24h', 'pressure_count_exceed_thr_24h',\n",
    "       'rotate_count_exceed_thr_24h', 'vibration_count_exceed_thr_24h',\n",
    "       'days_since_last_failure', 'days_since_last_error',\n",
    "       'days_since_last_rep', 'age', 'count_comp2_last15days',\n",
    "       'count_comp4_last15days', 'count_comp3_last15days',\n",
    "       'count_comp1_last15days', 'avg_days_between_mtn']\n",
    "\n",
    "# Categorical features to be pre-processed by the pipeline\n",
    "categorical_features = ['model']\n",
    "\n",
    "# The response\n",
    "target = 'target'\n",
    "\n",
    "# Features to fill missing values\n",
    "imputer_features = ['days_since_last_failure', 'days_since_last_error']\n",
    "\n",
    "# Imputer transformation\n",
    "imputer_transformer = Pipeline(\n",
    "    steps=[(\"imputer\", ArbitraryNumberImputer(arbitrary_number=10000))]\n",
    ")\n",
    "\n",
    "# Numerical transformations\n",
    "numeric_transformer = Pipeline(\n",
    "    steps=[(\"scaler\", MinMaxScaler())]\n",
    ")\n",
    "\n",
    "# Categorical transformations\n",
    "categorical_transformer = Pipeline(\n",
    "    steps=[\n",
    "        (\"encoder\", OneHotEncoder())\n",
    "]\n",
    ")\n",
    "\n",
    "# Preprocessing pipeline\n",
    "preprocessor = ColumnTransformer(\n",
    "    transformers=[\n",
    "        (\"num\", numeric_transformer, numeric_features),\n",
    "        (\"cat\", categorical_transformer, categorical_features),\n",
    "    ],\n",
    "    remainder='passthrough'\n",
    "    \n",
    ")\n"
   ]
  },
  {
   "attachments": {},
   "cell_type": "markdown",
   "metadata": {},
   "source": [
    "### Feature Selection"
   ]
  },
  {
   "cell_type": "code",
   "execution_count": 362,
   "metadata": {},
   "outputs": [],
   "source": [
    "smart_corr = SmartCorrelatedSelection(\n",
    "    variables=None,\n",
    "    method=\"pearson\",\n",
    "    threshold=0.7,\n",
    "    missing_values=\"raise\",\n",
    "    selection_method=\"variance\"\n",
    ")"
   ]
  },
  {
   "cell_type": "code",
   "execution_count": 363,
   "metadata": {},
   "outputs": [
    {
     "name": "stderr",
     "output_type": "stream",
     "text": [
      "c:\\Users\\BRUM\\Anaconda3\\envs\\pred-maintenance\\Lib\\site-packages\\feature_engine\\variable_handling\\_variable_type_checks.py:28: UserWarning: Could not infer format, so each element will be parsed individually, falling back to `dateutil`. To ensure parsing is consistent and as-expected, please specify a format.\n",
      "  return is_datetime(pd.to_datetime(column, errors=\"ignore\", utc=True))\n"
     ]
    }
   ],
   "source": [
    "feat_selector_pipe = Pipeline([\n",
    "    ('imputer', ArbitraryNumberImputer(arbitrary_number=10000, variables = imputer_features)),\n",
    "    ('preprocessor', preprocessor),\n",
    "    ('selector_cte', DropConstantFeatures()),\n",
    "    ('selector_corr', smart_corr)\n",
    "])\n",
    "\n",
    "\n",
    "df_feat = feat_selector_pipe.fit_transform(X_train, y_train)"
   ]
  },
  {
   "cell_type": "code",
   "execution_count": 364,
   "metadata": {},
   "outputs": [
    {
     "name": "stdout",
     "output_type": "stream",
     "text": [
      "Features: ['volt_mean_24h', 'volt_std_24h', 'volt_min_24h', 'volt_max_24h', 'pressure_std_24h', 'pressure_min_24h', 'pressure_max_24h', 'rotate_mean_24h', 'rotate_std_24h', 'rotate_min_24h', 'rotate_max_24h', 'vibration_mean_24h', 'vibration_std_24h', 'vibration_min_24h', 'vibration_max_24h', 'volt_count_exceed_thr_24h', 'rotate_count_exceed_thr_24h', 'days_since_last_failure', 'days_since_last_error', 'days_since_last_rep', 'age', 'avg_days_between_mtn', 'model_model3', 'model_model1', 'model_model2', 'model_model4']\n",
      "Number of Selected Features: 26\n"
     ]
    }
   ],
   "source": [
    "all_vars = list(feat_selector_pipe['preprocessor'].get_feature_names_out())\n",
    "idx = [int(x[1:]) for x in df_feat.columns]\n",
    "\n",
    "selected_features = [all_vars[i].split('__')[1] for i in idx]\n",
    "\n",
    "print(\"Features:\", selected_features)\n",
    "print(\"Number of Selected Features:\", len(selected_features))"
   ]
  },
  {
   "attachments": {},
   "cell_type": "markdown",
   "metadata": {},
   "source": [
    "### Modeling"
   ]
  },
  {
   "cell_type": "code",
   "execution_count": 365,
   "metadata": {},
   "outputs": [],
   "source": [
    "def evaluate(y_true, y_pred_prob, threshold = 0.5):\n",
    "    # convert probabilities to binary predictions\n",
    "    y_pred = (y_pred_prob > threshold).astype(int)\n",
    "    \n",
    "    accuracy = accuracy_score(y_true, y_pred)\n",
    "    precision = precision_score(y_true, y_pred)\n",
    "    recall = recall_score(y_true, y_pred)\n",
    "    f1 = f1_score(y_true, y_pred)\n",
    "    roc_auc = roc_auc_score(y_true, y_pred_prob)\n",
    "    \n",
    "    print(\"Accuracy:\", accuracy)\n",
    "    print(\"Precision:\", precision)\n",
    "    print(\"Recall:\", recall)\n",
    "    print(\"F1-score:\", f1)\n",
    "    print(\"ROC-AUC:\", roc_auc)\n",
    "    "
   ]
  },
  {
   "cell_type": "code",
   "execution_count": 366,
   "metadata": {},
   "outputs": [],
   "source": [
    "def evaluate_models(model_list, X, y, cv = 5, threshold = 0.5):\n",
    "\n",
    "    skf = StratifiedKFold(n_splits=cv, shuffle=True, random_state=42)\n",
    "\n",
    "    results_df = pd.DataFrame([], columns = ['Model', 'Train Accuracy', 'Train Precision', 'Train Recall', 'Train F1-score', 'Train ROC-AUC', 'Validation Accuracy', 'Validation Precision', 'Validation Recall', 'Validation F1-Score', 'Validation ROC-AUC'])\n",
    "\n",
    "    for name, model in model_list:\n",
    "\n",
    "        train_accuracy = []\n",
    "        train_precision  = []\n",
    "        train_recall  = []\n",
    "\n",
    "        val_accuracy = []\n",
    "        val_precision = []\n",
    "        val_recall = []\n",
    "\n",
    "        train_f1 = []\n",
    "        val_f1 = []\n",
    "\n",
    "        train_roc_auc = []\n",
    "        val_roc_auc = []\n",
    "\n",
    "        for train_index, val_index in skf.split(X, y):\n",
    "\n",
    "            X_train_fold = X.iloc[train_index, :]\n",
    "            X_val_fold = X.iloc[val_index, :]\n",
    "\n",
    "            y_train_fold = y.iloc[train_index]\n",
    "            y_val_fold = y.iloc[val_index]\n",
    "\n",
    "            model_pipe = Pipeline([\n",
    "                                ('imputer', ArbitraryNumberImputer(arbitrary_number=10000, variables = imputer_features)),\n",
    "                                ('preprocessor', preprocessor),\n",
    "                                ('selector_cte', DropConstantFeatures()),\n",
    "                                ('selector_corr', smart_corr),\n",
    "                                ('model', model)\n",
    "                            ])\n",
    "            \n",
    "            model_pipe.fit(X_train_fold, y_train_fold)\n",
    "\n",
    "            # Predict on the training and testing sets\n",
    "            y_train_pred_prob = model_pipe.predict_proba(X_train_fold)\n",
    "            y_train_pred = (y_train_pred_prob[:,1] > threshold).astype(int)\n",
    "            y_val_pred_prob = model_pipe.predict_proba(X_val_fold)\n",
    "            y_val_pred = (y_val_pred_prob[:,1] > threshold).astype(int)\n",
    "\n",
    "            \n",
    "\n",
    "            # Calculate the evaluation metrics for the training set\n",
    "            train_accuracy.append(accuracy_score(y_train_fold, y_train_pred))\n",
    "            train_precision.append(precision_score(y_train_fold, y_train_pred))\n",
    "            train_recall.append(recall_score(y_train_fold, y_train_pred))\n",
    "            train_f1.append(f1_score(y_train_fold, y_train_pred))\n",
    "            train_roc_auc.append(roc_auc_score(y_train_fold, y_train_pred_prob[:, 1]))\n",
    "            # Calculate the evaluation metrics for the validation set\n",
    "            val_accuracy.append(accuracy_score(y_val_fold, y_val_pred))\n",
    "            val_precision.append(precision_score(y_val_fold, y_val_pred))\n",
    "            val_recall.append(recall_score(y_val_fold, y_val_pred))\n",
    "            val_f1.append(f1_score(y_val_fold, y_val_pred))\n",
    "            val_roc_auc.append(roc_auc_score(y_val_fold, y_val_pred_prob[:, 1]))\n",
    "\n",
    "\n",
    "\n",
    "        model_metrics = [name, np.mean(train_accuracy), np.mean(train_precision), np.mean(train_recall), np.mean(train_f1), np.mean(train_roc_auc), np.mean(val_accuracy), np.mean(val_precision), np.mean(val_recall), np.mean(val_f1), np.mean(val_roc_auc)]\n",
    "\n",
    "        results_df = pd.concat([results_df, pd.DataFrame([model_metrics], columns = ['Model', 'Train Accuracy', 'Train Precision', 'Train Recall', 'Train F1-score', 'Train ROC-AUC', 'Validation Accuracy', 'Validation Precision', 'Validation Recall', 'Validation F1-Score', 'Validation ROC-AUC'])], ignore_index=True)\n",
    "        \n",
    "    return results_df"
   ]
  },
  {
   "cell_type": "code",
   "execution_count": 367,
   "metadata": {},
   "outputs": [
    {
     "name": "stderr",
     "output_type": "stream",
     "text": [
      "c:\\Users\\BRUM\\Anaconda3\\envs\\pred-maintenance\\Lib\\site-packages\\feature_engine\\variable_handling\\_variable_type_checks.py:28: UserWarning: Could not infer format, so each element will be parsed individually, falling back to `dateutil`. To ensure parsing is consistent and as-expected, please specify a format.\n",
      "  return is_datetime(pd.to_datetime(column, errors=\"ignore\", utc=True))\n",
      "c:\\Users\\BRUM\\Anaconda3\\envs\\pred-maintenance\\Lib\\site-packages\\feature_engine\\variable_handling\\_variable_type_checks.py:28: UserWarning: Could not infer format, so each element will be parsed individually, falling back to `dateutil`. To ensure parsing is consistent and as-expected, please specify a format.\n",
      "  return is_datetime(pd.to_datetime(column, errors=\"ignore\", utc=True))\n",
      "c:\\Users\\BRUM\\Anaconda3\\envs\\pred-maintenance\\Lib\\site-packages\\feature_engine\\variable_handling\\_variable_type_checks.py:28: UserWarning: Could not infer format, so each element will be parsed individually, falling back to `dateutil`. To ensure parsing is consistent and as-expected, please specify a format.\n",
      "  return is_datetime(pd.to_datetime(column, errors=\"ignore\", utc=True))\n",
      "c:\\Users\\BRUM\\Anaconda3\\envs\\pred-maintenance\\Lib\\site-packages\\feature_engine\\variable_handling\\_variable_type_checks.py:28: UserWarning: Could not infer format, so each element will be parsed individually, falling back to `dateutil`. To ensure parsing is consistent and as-expected, please specify a format.\n",
      "  return is_datetime(pd.to_datetime(column, errors=\"ignore\", utc=True))\n",
      "c:\\Users\\BRUM\\Anaconda3\\envs\\pred-maintenance\\Lib\\site-packages\\feature_engine\\variable_handling\\_variable_type_checks.py:28: UserWarning: Could not infer format, so each element will be parsed individually, falling back to `dateutil`. To ensure parsing is consistent and as-expected, please specify a format.\n",
      "  return is_datetime(pd.to_datetime(column, errors=\"ignore\", utc=True))\n",
      "c:\\Users\\BRUM\\Anaconda3\\envs\\pred-maintenance\\Lib\\site-packages\\feature_engine\\variable_handling\\_variable_type_checks.py:28: UserWarning: Could not infer format, so each element will be parsed individually, falling back to `dateutil`. To ensure parsing is consistent and as-expected, please specify a format.\n",
      "  return is_datetime(pd.to_datetime(column, errors=\"ignore\", utc=True))\n",
      "c:\\Users\\BRUM\\Anaconda3\\envs\\pred-maintenance\\Lib\\site-packages\\feature_engine\\variable_handling\\_variable_type_checks.py:28: UserWarning: Could not infer format, so each element will be parsed individually, falling back to `dateutil`. To ensure parsing is consistent and as-expected, please specify a format.\n",
      "  return is_datetime(pd.to_datetime(column, errors=\"ignore\", utc=True))\n",
      "c:\\Users\\BRUM\\Anaconda3\\envs\\pred-maintenance\\Lib\\site-packages\\feature_engine\\variable_handling\\_variable_type_checks.py:28: UserWarning: Could not infer format, so each element will be parsed individually, falling back to `dateutil`. To ensure parsing is consistent and as-expected, please specify a format.\n",
      "  return is_datetime(pd.to_datetime(column, errors=\"ignore\", utc=True))\n",
      "c:\\Users\\BRUM\\Anaconda3\\envs\\pred-maintenance\\Lib\\site-packages\\feature_engine\\variable_handling\\_variable_type_checks.py:28: UserWarning: Could not infer format, so each element will be parsed individually, falling back to `dateutil`. To ensure parsing is consistent and as-expected, please specify a format.\n",
      "  return is_datetime(pd.to_datetime(column, errors=\"ignore\", utc=True))\n",
      "c:\\Users\\BRUM\\Anaconda3\\envs\\pred-maintenance\\Lib\\site-packages\\feature_engine\\variable_handling\\_variable_type_checks.py:28: UserWarning: Could not infer format, so each element will be parsed individually, falling back to `dateutil`. To ensure parsing is consistent and as-expected, please specify a format.\n",
      "  return is_datetime(pd.to_datetime(column, errors=\"ignore\", utc=True))\n",
      "c:\\Users\\BRUM\\Anaconda3\\envs\\pred-maintenance\\Lib\\site-packages\\feature_engine\\variable_handling\\_variable_type_checks.py:28: UserWarning: Could not infer format, so each element will be parsed individually, falling back to `dateutil`. To ensure parsing is consistent and as-expected, please specify a format.\n",
      "  return is_datetime(pd.to_datetime(column, errors=\"ignore\", utc=True))\n",
      "c:\\Users\\BRUM\\Anaconda3\\envs\\pred-maintenance\\Lib\\site-packages\\feature_engine\\variable_handling\\_variable_type_checks.py:28: UserWarning: Could not infer format, so each element will be parsed individually, falling back to `dateutil`. To ensure parsing is consistent and as-expected, please specify a format.\n",
      "  return is_datetime(pd.to_datetime(column, errors=\"ignore\", utc=True))\n",
      "c:\\Users\\BRUM\\Anaconda3\\envs\\pred-maintenance\\Lib\\site-packages\\feature_engine\\variable_handling\\_variable_type_checks.py:28: UserWarning: Could not infer format, so each element will be parsed individually, falling back to `dateutil`. To ensure parsing is consistent and as-expected, please specify a format.\n",
      "  return is_datetime(pd.to_datetime(column, errors=\"ignore\", utc=True))\n",
      "c:\\Users\\BRUM\\Anaconda3\\envs\\pred-maintenance\\Lib\\site-packages\\feature_engine\\variable_handling\\_variable_type_checks.py:28: UserWarning: Could not infer format, so each element will be parsed individually, falling back to `dateutil`. To ensure parsing is consistent and as-expected, please specify a format.\n",
      "  return is_datetime(pd.to_datetime(column, errors=\"ignore\", utc=True))\n",
      "c:\\Users\\BRUM\\Anaconda3\\envs\\pred-maintenance\\Lib\\site-packages\\feature_engine\\variable_handling\\_variable_type_checks.py:28: UserWarning: Could not infer format, so each element will be parsed individually, falling back to `dateutil`. To ensure parsing is consistent and as-expected, please specify a format.\n",
      "  return is_datetime(pd.to_datetime(column, errors=\"ignore\", utc=True))\n"
     ]
    },
    {
     "data": {
      "text/html": [
       "<div>\n",
       "<style scoped>\n",
       "    .dataframe tbody tr th:only-of-type {\n",
       "        vertical-align: middle;\n",
       "    }\n",
       "\n",
       "    .dataframe tbody tr th {\n",
       "        vertical-align: top;\n",
       "    }\n",
       "\n",
       "    .dataframe thead th {\n",
       "        text-align: right;\n",
       "    }\n",
       "</style>\n",
       "<table border=\"1\" class=\"dataframe\">\n",
       "  <thead>\n",
       "    <tr style=\"text-align: right;\">\n",
       "      <th></th>\n",
       "      <th>Model</th>\n",
       "      <th>Train Accuracy</th>\n",
       "      <th>Train Precision</th>\n",
       "      <th>Train Recall</th>\n",
       "      <th>Train F1-score</th>\n",
       "      <th>Train ROC-AUC</th>\n",
       "      <th>Validation Accuracy</th>\n",
       "      <th>Validation Precision</th>\n",
       "      <th>Validation Recall</th>\n",
       "      <th>Validation F1-Score</th>\n",
       "      <th>Validation ROC-AUC</th>\n",
       "    </tr>\n",
       "  </thead>\n",
       "  <tbody>\n",
       "    <tr>\n",
       "      <th>0</th>\n",
       "      <td>RandomForestClassifier</td>\n",
       "      <td>1.000000</td>\n",
       "      <td>1.000000</td>\n",
       "      <td>1.000000</td>\n",
       "      <td>1.000000</td>\n",
       "      <td>1.000000</td>\n",
       "      <td>0.885572</td>\n",
       "      <td>0.854128</td>\n",
       "      <td>0.282155</td>\n",
       "      <td>0.423709</td>\n",
       "      <td>0.906430</td>\n",
       "    </tr>\n",
       "    <tr>\n",
       "      <th>1</th>\n",
       "      <td>XGBoost</td>\n",
       "      <td>0.987606</td>\n",
       "      <td>0.998192</td>\n",
       "      <td>0.918699</td>\n",
       "      <td>0.956780</td>\n",
       "      <td>0.999673</td>\n",
       "      <td>0.903974</td>\n",
       "      <td>0.788571</td>\n",
       "      <td>0.487978</td>\n",
       "      <td>0.602733</td>\n",
       "      <td>0.937993</td>\n",
       "    </tr>\n",
       "    <tr>\n",
       "      <th>2</th>\n",
       "      <td>CatBoostClassifier</td>\n",
       "      <td>0.953370</td>\n",
       "      <td>0.989845</td>\n",
       "      <td>0.694981</td>\n",
       "      <td>0.816597</td>\n",
       "      <td>0.992895</td>\n",
       "      <td>0.902460</td>\n",
       "      <td>0.847505</td>\n",
       "      <td>0.423072</td>\n",
       "      <td>0.564062</td>\n",
       "      <td>0.937536</td>\n",
       "    </tr>\n",
       "  </tbody>\n",
       "</table>\n",
       "</div>"
      ],
      "text/plain": [
       "                    Model  Train Accuracy  Train Precision  Train Recall   \n",
       "0  RandomForestClassifier        1.000000         1.000000      1.000000  \\\n",
       "1                 XGBoost        0.987606         0.998192      0.918699   \n",
       "2      CatBoostClassifier        0.953370         0.989845      0.694981   \n",
       "\n",
       "   Train F1-score  Train ROC-AUC  Validation Accuracy  Validation Precision   \n",
       "0        1.000000       1.000000             0.885572              0.854128  \\\n",
       "1        0.956780       0.999673             0.903974              0.788571   \n",
       "2        0.816597       0.992895             0.902460              0.847505   \n",
       "\n",
       "   Validation Recall  Validation F1-Score  Validation ROC-AUC  \n",
       "0           0.282155             0.423709            0.906430  \n",
       "1           0.487978             0.602733            0.937993  \n",
       "2           0.423072             0.564062            0.937536  "
      ]
     },
     "execution_count": 367,
     "metadata": {},
     "output_type": "execute_result"
    }
   ],
   "source": [
    "results_df = evaluate_models([('RandomForestClassifier', RandomForestClassifier(random_state = 42)), ('XGBoost', XGBClassifier(random_state = 42)), ('CatBoostClassifier', CatBoostClassifier(random_state = 42, verbose = False))], X_train, y_train)\n",
    "results_df"
   ]
  },
  {
   "attachments": {},
   "cell_type": "markdown",
   "metadata": {},
   "source": [
    "### Hyper-parameter Fine Tuning"
   ]
  },
  {
   "cell_type": "code",
   "execution_count": 368,
   "metadata": {},
   "outputs": [
    {
     "name": "stderr",
     "output_type": "stream",
     "text": [
      "c:\\Users\\BRUM\\Anaconda3\\envs\\pred-maintenance\\Lib\\site-packages\\feature_engine\\variable_handling\\_variable_type_checks.py:28: UserWarning: Could not infer format, so each element will be parsed individually, falling back to `dateutil`. To ensure parsing is consistent and as-expected, please specify a format.\n",
      "  return is_datetime(pd.to_datetime(column, errors=\"ignore\", utc=True))\n",
      "c:\\Users\\BRUM\\Anaconda3\\envs\\pred-maintenance\\Lib\\site-packages\\feature_engine\\variable_handling\\_variable_type_checks.py:28: UserWarning: Could not infer format, so each element will be parsed individually, falling back to `dateutil`. To ensure parsing is consistent and as-expected, please specify a format.\n",
      "  return is_datetime(pd.to_datetime(column, errors=\"ignore\", utc=True))\n",
      "c:\\Users\\BRUM\\Anaconda3\\envs\\pred-maintenance\\Lib\\site-packages\\feature_engine\\variable_handling\\_variable_type_checks.py:28: UserWarning: Could not infer format, so each element will be parsed individually, falling back to `dateutil`. To ensure parsing is consistent and as-expected, please specify a format.\n",
      "  return is_datetime(pd.to_datetime(column, errors=\"ignore\", utc=True))\n",
      "c:\\Users\\BRUM\\Anaconda3\\envs\\pred-maintenance\\Lib\\site-packages\\feature_engine\\variable_handling\\_variable_type_checks.py:28: UserWarning: Could not infer format, so each element will be parsed individually, falling back to `dateutil`. To ensure parsing is consistent and as-expected, please specify a format.\n",
      "  return is_datetime(pd.to_datetime(column, errors=\"ignore\", utc=True))\n",
      "c:\\Users\\BRUM\\Anaconda3\\envs\\pred-maintenance\\Lib\\site-packages\\feature_engine\\variable_handling\\_variable_type_checks.py:28: UserWarning: Could not infer format, so each element will be parsed individually, falling back to `dateutil`. To ensure parsing is consistent and as-expected, please specify a format.\n",
      "  return is_datetime(pd.to_datetime(column, errors=\"ignore\", utc=True))\n"
     ]
    },
    {
     "data": {
      "text/html": [
       "<div>\n",
       "<style scoped>\n",
       "    .dataframe tbody tr th:only-of-type {\n",
       "        vertical-align: middle;\n",
       "    }\n",
       "\n",
       "    .dataframe tbody tr th {\n",
       "        vertical-align: top;\n",
       "    }\n",
       "\n",
       "    .dataframe thead th {\n",
       "        text-align: right;\n",
       "    }\n",
       "</style>\n",
       "<table border=\"1\" class=\"dataframe\">\n",
       "  <thead>\n",
       "    <tr style=\"text-align: right;\">\n",
       "      <th></th>\n",
       "      <th>Model</th>\n",
       "      <th>Train Accuracy</th>\n",
       "      <th>Train Precision</th>\n",
       "      <th>Train Recall</th>\n",
       "      <th>Train F1-score</th>\n",
       "      <th>Train ROC-AUC</th>\n",
       "      <th>Validation Accuracy</th>\n",
       "      <th>Validation Precision</th>\n",
       "      <th>Validation Recall</th>\n",
       "      <th>Validation F1-Score</th>\n",
       "      <th>Validation ROC-AUC</th>\n",
       "    </tr>\n",
       "  </thead>\n",
       "  <tbody>\n",
       "    <tr>\n",
       "      <th>0</th>\n",
       "      <td>CatBoostClassifier</td>\n",
       "      <td>0.87973</td>\n",
       "      <td>0.872651</td>\n",
       "      <td>0.228231</td>\n",
       "      <td>0.361737</td>\n",
       "      <td>0.909604</td>\n",
       "      <td>0.876774</td>\n",
       "      <td>0.838286</td>\n",
       "      <td>0.216915</td>\n",
       "      <td>0.344504</td>\n",
       "      <td>0.902889</td>\n",
       "    </tr>\n",
       "  </tbody>\n",
       "</table>\n",
       "</div>"
      ],
      "text/plain": [
       "                Model  Train Accuracy  Train Precision  Train Recall   \n",
       "0  CatBoostClassifier         0.87973         0.872651      0.228231  \\\n",
       "\n",
       "   Train F1-score  Train ROC-AUC  Validation Accuracy  Validation Precision   \n",
       "0        0.361737       0.909604             0.876774              0.838286  \\\n",
       "\n",
       "   Validation Recall  Validation F1-Score  Validation ROC-AUC  \n",
       "0           0.216915             0.344504            0.902889  "
      ]
     },
     "execution_count": 368,
     "metadata": {},
     "output_type": "execute_result"
    }
   ],
   "source": [
    "model = CatBoostClassifier(random_state = 42,\n",
    "                           n_estimators = 300,\n",
    "                           depth = 3,\n",
    "                           reg_lambda = 3,\n",
    "                           verbose = False)\n",
    "\n",
    "results_df_tuning = evaluate_models([('CatBoostClassifier', model)], X_train, y_train)\n",
    "results_df_tuning"
   ]
  },
  {
   "cell_type": "code",
   "execution_count": 369,
   "metadata": {},
   "outputs": [
    {
     "name": "stderr",
     "output_type": "stream",
     "text": [
      "c:\\Users\\BRUM\\Anaconda3\\envs\\pred-maintenance\\Lib\\site-packages\\feature_engine\\variable_handling\\_variable_type_checks.py:28: UserWarning: Could not infer format, so each element will be parsed individually, falling back to `dateutil`. To ensure parsing is consistent and as-expected, please specify a format.\n",
      "  return is_datetime(pd.to_datetime(column, errors=\"ignore\", utc=True))\n",
      "c:\\Users\\BRUM\\Anaconda3\\envs\\pred-maintenance\\Lib\\site-packages\\feature_engine\\variable_handling\\_variable_type_checks.py:28: UserWarning: Could not infer format, so each element will be parsed individually, falling back to `dateutil`. To ensure parsing is consistent and as-expected, please specify a format.\n",
      "  return is_datetime(pd.to_datetime(column, errors=\"ignore\", utc=True))\n",
      "c:\\Users\\BRUM\\Anaconda3\\envs\\pred-maintenance\\Lib\\site-packages\\feature_engine\\variable_handling\\_variable_type_checks.py:28: UserWarning: Could not infer format, so each element will be parsed individually, falling back to `dateutil`. To ensure parsing is consistent and as-expected, please specify a format.\n",
      "  return is_datetime(pd.to_datetime(column, errors=\"ignore\", utc=True))\n",
      "c:\\Users\\BRUM\\Anaconda3\\envs\\pred-maintenance\\Lib\\site-packages\\feature_engine\\variable_handling\\_variable_type_checks.py:28: UserWarning: Could not infer format, so each element will be parsed individually, falling back to `dateutil`. To ensure parsing is consistent and as-expected, please specify a format.\n",
      "  return is_datetime(pd.to_datetime(column, errors=\"ignore\", utc=True))\n",
      "c:\\Users\\BRUM\\Anaconda3\\envs\\pred-maintenance\\Lib\\site-packages\\feature_engine\\variable_handling\\_variable_type_checks.py:28: UserWarning: Could not infer format, so each element will be parsed individually, falling back to `dateutil`. To ensure parsing is consistent and as-expected, please specify a format.\n",
      "  return is_datetime(pd.to_datetime(column, errors=\"ignore\", utc=True))\n"
     ]
    },
    {
     "data": {
      "text/html": [
       "<div>\n",
       "<style scoped>\n",
       "    .dataframe tbody tr th:only-of-type {\n",
       "        vertical-align: middle;\n",
       "    }\n",
       "\n",
       "    .dataframe tbody tr th {\n",
       "        vertical-align: top;\n",
       "    }\n",
       "\n",
       "    .dataframe thead th {\n",
       "        text-align: right;\n",
       "    }\n",
       "</style>\n",
       "<table border=\"1\" class=\"dataframe\">\n",
       "  <thead>\n",
       "    <tr style=\"text-align: right;\">\n",
       "      <th></th>\n",
       "      <th>Model</th>\n",
       "      <th>Train Accuracy</th>\n",
       "      <th>Train Precision</th>\n",
       "      <th>Train Recall</th>\n",
       "      <th>Train F1-score</th>\n",
       "      <th>Train ROC-AUC</th>\n",
       "      <th>Validation Accuracy</th>\n",
       "      <th>Validation Precision</th>\n",
       "      <th>Validation Recall</th>\n",
       "      <th>Validation F1-Score</th>\n",
       "      <th>Validation ROC-AUC</th>\n",
       "    </tr>\n",
       "  </thead>\n",
       "  <tbody>\n",
       "    <tr>\n",
       "      <th>0</th>\n",
       "      <td>CatBoostClassifier</td>\n",
       "      <td>0.871772</td>\n",
       "      <td>0.567229</td>\n",
       "      <td>0.598321</td>\n",
       "      <td>0.582292</td>\n",
       "      <td>0.909631</td>\n",
       "      <td>0.866935</td>\n",
       "      <td>0.552314</td>\n",
       "      <td>0.581087</td>\n",
       "      <td>0.565714</td>\n",
       "      <td>0.902538</td>\n",
       "    </tr>\n",
       "  </tbody>\n",
       "</table>\n",
       "</div>"
      ],
      "text/plain": [
       "                Model  Train Accuracy  Train Precision  Train Recall   \n",
       "0  CatBoostClassifier        0.871772         0.567229      0.598321  \\\n",
       "\n",
       "   Train F1-score  Train ROC-AUC  Validation Accuracy  Validation Precision   \n",
       "0        0.582292       0.909631             0.866935              0.552314  \\\n",
       "\n",
       "   Validation Recall  Validation F1-Score  Validation ROC-AUC  \n",
       "0           0.581087             0.565714            0.902538  "
      ]
     },
     "execution_count": 369,
     "metadata": {},
     "output_type": "execute_result"
    }
   ],
   "source": [
    "model = CatBoostClassifier(random_state = 42,\n",
    "                           n_estimators = 300,\n",
    "                           depth = 3,\n",
    "                           reg_lambda = 5,\n",
    "                           verbose = False)\n",
    "\n",
    "results_df_tuning = evaluate_models([('CatBoostClassifier', model)], X_train, y_train, threshold = 0.3)\n",
    "results_df_tuning"
   ]
  },
  {
   "attachments": {},
   "cell_type": "markdown",
   "metadata": {},
   "source": [
    "Great, our model is not overfitting anymore!"
   ]
  },
  {
   "attachments": {},
   "cell_type": "markdown",
   "metadata": {},
   "source": [
    "### Evaluation"
   ]
  },
  {
   "cell_type": "code",
   "execution_count": 370,
   "metadata": {},
   "outputs": [
    {
     "name": "stderr",
     "output_type": "stream",
     "text": [
      "c:\\Users\\BRUM\\Anaconda3\\envs\\pred-maintenance\\Lib\\site-packages\\feature_engine\\variable_handling\\_variable_type_checks.py:28: UserWarning: Could not infer format, so each element will be parsed individually, falling back to `dateutil`. To ensure parsing is consistent and as-expected, please specify a format.\n",
      "  return is_datetime(pd.to_datetime(column, errors=\"ignore\", utc=True))\n"
     ]
    },
    {
     "data": {
      "text/html": [
       "<style>#sk-container-id-9 {color: black;background-color: white;}#sk-container-id-9 pre{padding: 0;}#sk-container-id-9 div.sk-toggleable {background-color: white;}#sk-container-id-9 label.sk-toggleable__label {cursor: pointer;display: block;width: 100%;margin-bottom: 0;padding: 0.3em;box-sizing: border-box;text-align: center;}#sk-container-id-9 label.sk-toggleable__label-arrow:before {content: \"▸\";float: left;margin-right: 0.25em;color: #696969;}#sk-container-id-9 label.sk-toggleable__label-arrow:hover:before {color: black;}#sk-container-id-9 div.sk-estimator:hover label.sk-toggleable__label-arrow:before {color: black;}#sk-container-id-9 div.sk-toggleable__content {max-height: 0;max-width: 0;overflow: hidden;text-align: left;background-color: #f0f8ff;}#sk-container-id-9 div.sk-toggleable__content pre {margin: 0.2em;color: black;border-radius: 0.25em;background-color: #f0f8ff;}#sk-container-id-9 input.sk-toggleable__control:checked~div.sk-toggleable__content {max-height: 200px;max-width: 100%;overflow: auto;}#sk-container-id-9 input.sk-toggleable__control:checked~label.sk-toggleable__label-arrow:before {content: \"▾\";}#sk-container-id-9 div.sk-estimator input.sk-toggleable__control:checked~label.sk-toggleable__label {background-color: #d4ebff;}#sk-container-id-9 div.sk-label input.sk-toggleable__control:checked~label.sk-toggleable__label {background-color: #d4ebff;}#sk-container-id-9 input.sk-hidden--visually {border: 0;clip: rect(1px 1px 1px 1px);clip: rect(1px, 1px, 1px, 1px);height: 1px;margin: -1px;overflow: hidden;padding: 0;position: absolute;width: 1px;}#sk-container-id-9 div.sk-estimator {font-family: monospace;background-color: #f0f8ff;border: 1px dotted black;border-radius: 0.25em;box-sizing: border-box;margin-bottom: 0.5em;}#sk-container-id-9 div.sk-estimator:hover {background-color: #d4ebff;}#sk-container-id-9 div.sk-parallel-item::after {content: \"\";width: 100%;border-bottom: 1px solid gray;flex-grow: 1;}#sk-container-id-9 div.sk-label:hover label.sk-toggleable__label {background-color: #d4ebff;}#sk-container-id-9 div.sk-serial::before {content: \"\";position: absolute;border-left: 1px solid gray;box-sizing: border-box;top: 0;bottom: 0;left: 50%;z-index: 0;}#sk-container-id-9 div.sk-serial {display: flex;flex-direction: column;align-items: center;background-color: white;padding-right: 0.2em;padding-left: 0.2em;position: relative;}#sk-container-id-9 div.sk-item {position: relative;z-index: 1;}#sk-container-id-9 div.sk-parallel {display: flex;align-items: stretch;justify-content: center;background-color: white;position: relative;}#sk-container-id-9 div.sk-item::before, #sk-container-id-9 div.sk-parallel-item::before {content: \"\";position: absolute;border-left: 1px solid gray;box-sizing: border-box;top: 0;bottom: 0;left: 50%;z-index: -1;}#sk-container-id-9 div.sk-parallel-item {display: flex;flex-direction: column;z-index: 1;position: relative;background-color: white;}#sk-container-id-9 div.sk-parallel-item:first-child::after {align-self: flex-end;width: 50%;}#sk-container-id-9 div.sk-parallel-item:last-child::after {align-self: flex-start;width: 50%;}#sk-container-id-9 div.sk-parallel-item:only-child::after {width: 0;}#sk-container-id-9 div.sk-dashed-wrapped {border: 1px dashed gray;margin: 0 0.4em 0.5em 0.4em;box-sizing: border-box;padding-bottom: 0.4em;background-color: white;}#sk-container-id-9 div.sk-label label {font-family: monospace;font-weight: bold;display: inline-block;line-height: 1.2em;}#sk-container-id-9 div.sk-label-container {text-align: center;}#sk-container-id-9 div.sk-container {/* jupyter's `normalize.less` sets `[hidden] { display: none; }` but bootstrap.min.css set `[hidden] { display: none !important; }` so we also need the `!important` here to be able to override the default hidden behavior on the sphinx rendered scikit-learn.org. See: https://github.com/scikit-learn/scikit-learn/issues/21755 */display: inline-block !important;position: relative;}#sk-container-id-9 div.sk-text-repr-fallback {display: none;}</style><div id=\"sk-container-id-9\" class=\"sk-top-container\"><div class=\"sk-text-repr-fallback\"><pre>Pipeline(steps=[(&#x27;imputer&#x27;,\n",
       "                 ArbitraryNumberImputer(arbitrary_number=10000,\n",
       "                                        variables=[&#x27;days_since_last_failure&#x27;,\n",
       "                                                   &#x27;days_since_last_error&#x27;])),\n",
       "                (&#x27;preprocessor&#x27;,\n",
       "                 ColumnTransformer(remainder=&#x27;passthrough&#x27;,\n",
       "                                   transformers=[(&#x27;num&#x27;,\n",
       "                                                  Pipeline(steps=[(&#x27;scaler&#x27;,\n",
       "                                                                   MinMaxScaler())]),\n",
       "                                                  [&#x27;volt_mean_24h&#x27;,\n",
       "                                                   &#x27;volt_std_24h&#x27;,\n",
       "                                                   &#x27;volt_min_24h&#x27;,\n",
       "                                                   &#x27;volt_max_24h&#x27;,\n",
       "                                                   &#x27;volt_max_rate_24h&#x27;,\n",
       "                                                   &#x27;pressur...\n",
       "                                                   &#x27;days_since_last_rep&#x27;, &#x27;age&#x27;,\n",
       "                                                   &#x27;count_comp2_last15days&#x27;,\n",
       "                                                   &#x27;count_comp4_last15days&#x27;, ...]),\n",
       "                                                 (&#x27;cat&#x27;,\n",
       "                                                  Pipeline(steps=[(&#x27;encoder&#x27;,\n",
       "                                                                   OneHotEncoder())]),\n",
       "                                                  [&#x27;model&#x27;])])),\n",
       "                (&#x27;selector_cte&#x27;, DropConstantFeatures()),\n",
       "                (&#x27;selector_corr&#x27;,\n",
       "                 SmartCorrelatedSelection(missing_values=&#x27;raise&#x27;,\n",
       "                                          selection_method=&#x27;variance&#x27;,\n",
       "                                          threshold=0.7)),\n",
       "                (&#x27;model&#x27;,\n",
       "                 &lt;catboost.core.CatBoostClassifier object at 0x00000169DC7CE750&gt;)])</pre><b>In a Jupyter environment, please rerun this cell to show the HTML representation or trust the notebook. <br />On GitHub, the HTML representation is unable to render, please try loading this page with nbviewer.org.</b></div><div class=\"sk-container\" hidden><div class=\"sk-item sk-dashed-wrapped\"><div class=\"sk-label-container\"><div class=\"sk-label sk-toggleable\"><input class=\"sk-toggleable__control sk-hidden--visually\" id=\"sk-estimator-id-97\" type=\"checkbox\" ><label for=\"sk-estimator-id-97\" class=\"sk-toggleable__label sk-toggleable__label-arrow\">Pipeline</label><div class=\"sk-toggleable__content\"><pre>Pipeline(steps=[(&#x27;imputer&#x27;,\n",
       "                 ArbitraryNumberImputer(arbitrary_number=10000,\n",
       "                                        variables=[&#x27;days_since_last_failure&#x27;,\n",
       "                                                   &#x27;days_since_last_error&#x27;])),\n",
       "                (&#x27;preprocessor&#x27;,\n",
       "                 ColumnTransformer(remainder=&#x27;passthrough&#x27;,\n",
       "                                   transformers=[(&#x27;num&#x27;,\n",
       "                                                  Pipeline(steps=[(&#x27;scaler&#x27;,\n",
       "                                                                   MinMaxScaler())]),\n",
       "                                                  [&#x27;volt_mean_24h&#x27;,\n",
       "                                                   &#x27;volt_std_24h&#x27;,\n",
       "                                                   &#x27;volt_min_24h&#x27;,\n",
       "                                                   &#x27;volt_max_24h&#x27;,\n",
       "                                                   &#x27;volt_max_rate_24h&#x27;,\n",
       "                                                   &#x27;pressur...\n",
       "                                                   &#x27;days_since_last_rep&#x27;, &#x27;age&#x27;,\n",
       "                                                   &#x27;count_comp2_last15days&#x27;,\n",
       "                                                   &#x27;count_comp4_last15days&#x27;, ...]),\n",
       "                                                 (&#x27;cat&#x27;,\n",
       "                                                  Pipeline(steps=[(&#x27;encoder&#x27;,\n",
       "                                                                   OneHotEncoder())]),\n",
       "                                                  [&#x27;model&#x27;])])),\n",
       "                (&#x27;selector_cte&#x27;, DropConstantFeatures()),\n",
       "                (&#x27;selector_corr&#x27;,\n",
       "                 SmartCorrelatedSelection(missing_values=&#x27;raise&#x27;,\n",
       "                                          selection_method=&#x27;variance&#x27;,\n",
       "                                          threshold=0.7)),\n",
       "                (&#x27;model&#x27;,\n",
       "                 &lt;catboost.core.CatBoostClassifier object at 0x00000169DC7CE750&gt;)])</pre></div></div></div><div class=\"sk-serial\"><div class=\"sk-item\"><div class=\"sk-estimator sk-toggleable\"><input class=\"sk-toggleable__control sk-hidden--visually\" id=\"sk-estimator-id-98\" type=\"checkbox\" ><label for=\"sk-estimator-id-98\" class=\"sk-toggleable__label sk-toggleable__label-arrow\">ArbitraryNumberImputer</label><div class=\"sk-toggleable__content\"><pre>ArbitraryNumberImputer(arbitrary_number=10000,\n",
       "                       variables=[&#x27;days_since_last_failure&#x27;,\n",
       "                                  &#x27;days_since_last_error&#x27;])</pre></div></div></div><div class=\"sk-item sk-dashed-wrapped\"><div class=\"sk-label-container\"><div class=\"sk-label sk-toggleable\"><input class=\"sk-toggleable__control sk-hidden--visually\" id=\"sk-estimator-id-99\" type=\"checkbox\" ><label for=\"sk-estimator-id-99\" class=\"sk-toggleable__label sk-toggleable__label-arrow\">preprocessor: ColumnTransformer</label><div class=\"sk-toggleable__content\"><pre>ColumnTransformer(remainder=&#x27;passthrough&#x27;,\n",
       "                  transformers=[(&#x27;num&#x27;,\n",
       "                                 Pipeline(steps=[(&#x27;scaler&#x27;, MinMaxScaler())]),\n",
       "                                 [&#x27;volt_mean_24h&#x27;, &#x27;volt_std_24h&#x27;,\n",
       "                                  &#x27;volt_min_24h&#x27;, &#x27;volt_max_24h&#x27;,\n",
       "                                  &#x27;volt_max_rate_24h&#x27;, &#x27;pressure_mean_24h&#x27;,\n",
       "                                  &#x27;pressure_std_24h&#x27;, &#x27;pressure_min_24h&#x27;,\n",
       "                                  &#x27;pressure_max_24h&#x27;, &#x27;pressure_max_rate_24h&#x27;,\n",
       "                                  &#x27;rotate_mean_24h&#x27;, &#x27;rotate_std_24h&#x27;,\n",
       "                                  &#x27;rotate_min_24h&#x27;, &#x27;rotate_...\n",
       "                                  &#x27;vibration_max_24h&#x27;, &#x27;vibration_max_rate_24h&#x27;,\n",
       "                                  &#x27;volt_count_exceed_thr_24h&#x27;,\n",
       "                                  &#x27;pressure_count_exceed_thr_24h&#x27;,\n",
       "                                  &#x27;rotate_count_exceed_thr_24h&#x27;,\n",
       "                                  &#x27;vibration_count_exceed_thr_24h&#x27;,\n",
       "                                  &#x27;days_since_last_failure&#x27;,\n",
       "                                  &#x27;days_since_last_error&#x27;,\n",
       "                                  &#x27;days_since_last_rep&#x27;, &#x27;age&#x27;,\n",
       "                                  &#x27;count_comp2_last15days&#x27;,\n",
       "                                  &#x27;count_comp4_last15days&#x27;, ...]),\n",
       "                                (&#x27;cat&#x27;,\n",
       "                                 Pipeline(steps=[(&#x27;encoder&#x27;, OneHotEncoder())]),\n",
       "                                 [&#x27;model&#x27;])])</pre></div></div></div><div class=\"sk-parallel\"><div class=\"sk-parallel-item\"><div class=\"sk-item\"><div class=\"sk-label-container\"><div class=\"sk-label sk-toggleable\"><input class=\"sk-toggleable__control sk-hidden--visually\" id=\"sk-estimator-id-100\" type=\"checkbox\" ><label for=\"sk-estimator-id-100\" class=\"sk-toggleable__label sk-toggleable__label-arrow\">num</label><div class=\"sk-toggleable__content\"><pre>[&#x27;volt_mean_24h&#x27;, &#x27;volt_std_24h&#x27;, &#x27;volt_min_24h&#x27;, &#x27;volt_max_24h&#x27;, &#x27;volt_max_rate_24h&#x27;, &#x27;pressure_mean_24h&#x27;, &#x27;pressure_std_24h&#x27;, &#x27;pressure_min_24h&#x27;, &#x27;pressure_max_24h&#x27;, &#x27;pressure_max_rate_24h&#x27;, &#x27;rotate_mean_24h&#x27;, &#x27;rotate_std_24h&#x27;, &#x27;rotate_min_24h&#x27;, &#x27;rotate_max_24h&#x27;, &#x27;rotate_max_rate_24h&#x27;, &#x27;vibration_mean_24h&#x27;, &#x27;vibration_std_24h&#x27;, &#x27;vibration_min_24h&#x27;, &#x27;vibration_max_24h&#x27;, &#x27;vibration_max_rate_24h&#x27;, &#x27;volt_count_exceed_thr_24h&#x27;, &#x27;pressure_count_exceed_thr_24h&#x27;, &#x27;rotate_count_exceed_thr_24h&#x27;, &#x27;vibration_count_exceed_thr_24h&#x27;, &#x27;days_since_last_failure&#x27;, &#x27;days_since_last_error&#x27;, &#x27;days_since_last_rep&#x27;, &#x27;age&#x27;, &#x27;count_comp2_last15days&#x27;, &#x27;count_comp4_last15days&#x27;, &#x27;count_comp3_last15days&#x27;, &#x27;count_comp1_last15days&#x27;, &#x27;avg_days_between_mtn&#x27;]</pre></div></div></div><div class=\"sk-serial\"><div class=\"sk-item\"><div class=\"sk-serial\"><div class=\"sk-item\"><div class=\"sk-estimator sk-toggleable\"><input class=\"sk-toggleable__control sk-hidden--visually\" id=\"sk-estimator-id-101\" type=\"checkbox\" ><label for=\"sk-estimator-id-101\" class=\"sk-toggleable__label sk-toggleable__label-arrow\">MinMaxScaler</label><div class=\"sk-toggleable__content\"><pre>MinMaxScaler()</pre></div></div></div></div></div></div></div></div><div class=\"sk-parallel-item\"><div class=\"sk-item\"><div class=\"sk-label-container\"><div class=\"sk-label sk-toggleable\"><input class=\"sk-toggleable__control sk-hidden--visually\" id=\"sk-estimator-id-102\" type=\"checkbox\" ><label for=\"sk-estimator-id-102\" class=\"sk-toggleable__label sk-toggleable__label-arrow\">cat</label><div class=\"sk-toggleable__content\"><pre>[&#x27;model&#x27;]</pre></div></div></div><div class=\"sk-serial\"><div class=\"sk-item\"><div class=\"sk-serial\"><div class=\"sk-item\"><div class=\"sk-estimator sk-toggleable\"><input class=\"sk-toggleable__control sk-hidden--visually\" id=\"sk-estimator-id-103\" type=\"checkbox\" ><label for=\"sk-estimator-id-103\" class=\"sk-toggleable__label sk-toggleable__label-arrow\">OneHotEncoder</label><div class=\"sk-toggleable__content\"><pre>OneHotEncoder()</pre></div></div></div></div></div></div></div></div><div class=\"sk-parallel-item\"><div class=\"sk-item\"><div class=\"sk-label-container\"><div class=\"sk-label sk-toggleable\"><input class=\"sk-toggleable__control sk-hidden--visually\" id=\"sk-estimator-id-104\" type=\"checkbox\" ><label for=\"sk-estimator-id-104\" class=\"sk-toggleable__label sk-toggleable__label-arrow\">remainder</label><div class=\"sk-toggleable__content\"><pre>[]</pre></div></div></div><div class=\"sk-serial\"><div class=\"sk-item\"><div class=\"sk-estimator sk-toggleable\"><input class=\"sk-toggleable__control sk-hidden--visually\" id=\"sk-estimator-id-105\" type=\"checkbox\" ><label for=\"sk-estimator-id-105\" class=\"sk-toggleable__label sk-toggleable__label-arrow\">passthrough</label><div class=\"sk-toggleable__content\"><pre>passthrough</pre></div></div></div></div></div></div></div></div><div class=\"sk-item\"><div class=\"sk-estimator sk-toggleable\"><input class=\"sk-toggleable__control sk-hidden--visually\" id=\"sk-estimator-id-106\" type=\"checkbox\" ><label for=\"sk-estimator-id-106\" class=\"sk-toggleable__label sk-toggleable__label-arrow\">DropConstantFeatures</label><div class=\"sk-toggleable__content\"><pre>DropConstantFeatures()</pre></div></div></div><div class=\"sk-item\"><div class=\"sk-estimator sk-toggleable\"><input class=\"sk-toggleable__control sk-hidden--visually\" id=\"sk-estimator-id-107\" type=\"checkbox\" ><label for=\"sk-estimator-id-107\" class=\"sk-toggleable__label sk-toggleable__label-arrow\">SmartCorrelatedSelection</label><div class=\"sk-toggleable__content\"><pre>SmartCorrelatedSelection(missing_values=&#x27;raise&#x27;, selection_method=&#x27;variance&#x27;,\n",
       "                         threshold=0.7)</pre></div></div></div><div class=\"sk-item\"><div class=\"sk-estimator sk-toggleable\"><input class=\"sk-toggleable__control sk-hidden--visually\" id=\"sk-estimator-id-108\" type=\"checkbox\" ><label for=\"sk-estimator-id-108\" class=\"sk-toggleable__label sk-toggleable__label-arrow\">CatBoostClassifier</label><div class=\"sk-toggleable__content\"><pre>&lt;catboost.core.CatBoostClassifier object at 0x00000169DC7CE750&gt;</pre></div></div></div></div></div></div></div>"
      ],
      "text/plain": [
       "Pipeline(steps=[('imputer',\n",
       "                 ArbitraryNumberImputer(arbitrary_number=10000,\n",
       "                                        variables=['days_since_last_failure',\n",
       "                                                   'days_since_last_error'])),\n",
       "                ('preprocessor',\n",
       "                 ColumnTransformer(remainder='passthrough',\n",
       "                                   transformers=[('num',\n",
       "                                                  Pipeline(steps=[('scaler',\n",
       "                                                                   MinMaxScaler())]),\n",
       "                                                  ['volt_mean_24h',\n",
       "                                                   'volt_std_24h',\n",
       "                                                   'volt_min_24h',\n",
       "                                                   'volt_max_24h',\n",
       "                                                   'volt_max_rate_24h',\n",
       "                                                   'pressur...\n",
       "                                                   'days_since_last_rep', 'age',\n",
       "                                                   'count_comp2_last15days',\n",
       "                                                   'count_comp4_last15days', ...]),\n",
       "                                                 ('cat',\n",
       "                                                  Pipeline(steps=[('encoder',\n",
       "                                                                   OneHotEncoder())]),\n",
       "                                                  ['model'])])),\n",
       "                ('selector_cte', DropConstantFeatures()),\n",
       "                ('selector_corr',\n",
       "                 SmartCorrelatedSelection(missing_values='raise',\n",
       "                                          selection_method='variance',\n",
       "                                          threshold=0.7)),\n",
       "                ('model',\n",
       "                 <catboost.core.CatBoostClassifier object at 0x00000169DC7CE750>)])"
      ]
     },
     "execution_count": 370,
     "metadata": {},
     "output_type": "execute_result"
    }
   ],
   "source": [
    "model = CatBoostClassifier(random_state = 42,\n",
    "                           n_estimators = 300,\n",
    "                           depth = 3,\n",
    "                           reg_lambda = 5,\n",
    "                           verbose = False)\n",
    "\n",
    "model_pipe = Pipeline([\n",
    "                        ('imputer', ArbitraryNumberImputer(arbitrary_number=10000, variables = imputer_features)),\n",
    "                        ('preprocessor', preprocessor),\n",
    "                        ('selector_cte', DropConstantFeatures()),\n",
    "                        ('selector_corr', smart_corr),\n",
    "                        ('model', model)\n",
    "                        ])\n",
    "\n",
    "model_pipe.fit(X_train, y_train)"
   ]
  },
  {
   "cell_type": "code",
   "execution_count": 371,
   "metadata": {},
   "outputs": [],
   "source": [
    "from sklearn.metrics import confusion_matrix"
   ]
  },
  {
   "cell_type": "code",
   "execution_count": 372,
   "metadata": {},
   "outputs": [],
   "source": [
    "def perf_measure(y_actual, y_hat):\n",
    "    TP = 0\n",
    "    FP = 0\n",
    "    TN = 0\n",
    "    FN = 0\n",
    "\n",
    "    for i in range(len(y_hat)): \n",
    "        if y_actual[i]==y_hat[i]==1:\n",
    "           TP += 1\n",
    "        if y_hat[i]==1 and y_actual[i]!=y_hat[i]:\n",
    "           FP += 1\n",
    "        if y_actual[i]==y_hat[i]==0:\n",
    "           TN += 1\n",
    "        if y_hat[i]==0 and y_actual[i]!=y_hat[i]:\n",
    "           FN += 1\n",
    "\n",
    "    return(TP, FP, TN, FN)"
   ]
  },
  {
   "cell_type": "code",
   "execution_count": 373,
   "metadata": {},
   "outputs": [],
   "source": [
    "optimal_thr = 0.3\n",
    "y_pred_val_prob = model_pipe.predict_proba(X_val)\n",
    "y_pred_val = (y_pred_val_prob > optimal_thr).astype(int)[:, 1]"
   ]
  },
  {
   "cell_type": "code",
   "execution_count": 374,
   "metadata": {},
   "outputs": [],
   "source": [
    "TP, FP, TN, FN = perf_measure(y_val.values, y_pred_val)"
   ]
  },
  {
   "cell_type": "code",
   "execution_count": 375,
   "metadata": {},
   "outputs": [
    {
     "name": "stdout",
     "output_type": "stream",
     "text": [
      "TP: 861\n",
      "FP: 672\n",
      "TN: 6978\n",
      "FN: 549\n"
     ]
    }
   ],
   "source": [
    "# Thr = 0.3\n",
    "print(\"TP:\",TP)\n",
    "print(\"FP:\",FP)\n",
    "print(\"TN:\",TN)\n",
    "print(\"FN:\",FN)"
   ]
  },
  {
   "cell_type": "code",
   "execution_count": 376,
   "metadata": {},
   "outputs": [],
   "source": [
    "# Costs \n",
    "unnecessary_maintenance = 1500\n",
    "appropriate_maintenance = 7500\n",
    "run_to_failure = 30000"
   ]
  },
  {
   "cell_type": "code",
   "execution_count": 377,
   "metadata": {},
   "outputs": [
    {
     "name": "stdout",
     "output_type": "stream",
     "text": [
      "total_cost_unnecessary_maintenance: k$ 144.0\n",
      "total_cost_appropriate_maintenance: k$ 922.5\n",
      "total_cost_run_to_failure: k$ 2352.8571428571427\n",
      "total_cost k$: 3419.3571428571427\n",
      "Average Cost per Machine: k$ 34.193571428571424\n"
     ]
    }
   ],
   "source": [
    "# Here, I'm dividing all numbers by 7 because I receive always a window of 7 positive values. So, in practive, only the first one is considered the TRUE positive\n",
    "# Maybe I'm overestimating this numbers for FP and FN, but it's ok for now.\n",
    "total_cost_unnecessary_maintenance = unnecessary_maintenance * FP/7\n",
    "total_cost_appropriate_maintenance = appropriate_maintenance * TP/7\n",
    "total_cost_run_to_failure = run_to_failure * FN/7\n",
    "total_cost = total_cost_unnecessary_maintenance + total_cost_appropriate_maintenance + total_cost_run_to_failure\n",
    "\n",
    "print(\"total_cost_unnecessary_maintenance: k$\", total_cost_unnecessary_maintenance/1e3)\n",
    "print(\"total_cost_appropriate_maintenance: k$\", total_cost_appropriate_maintenance/1e3)\n",
    "print(\"total_cost_run_to_failure: k$\", total_cost_run_to_failure/1e3)\n",
    "print(\"total_cost k$:\", total_cost/1e3)\n",
    "\n",
    "print('Average Cost per Machine: k$', (total_cost/1e3)/100)\n"
   ]
  },
  {
   "cell_type": "code",
   "execution_count": 378,
   "metadata": {},
   "outputs": [],
   "source": [
    "pdm_failures = pd.read_csv('../data/PdM_failures.csv')\n",
    "pdm_maint = pd.read_csv('../data/PdM_maint.csv')"
   ]
  },
  {
   "cell_type": "code",
   "execution_count": 379,
   "metadata": {},
   "outputs": [],
   "source": [
    "start = '2015-02-01'\n",
    "end = '2015-12-15'"
   ]
  },
  {
   "cell_type": "code",
   "execution_count": 380,
   "metadata": {},
   "outputs": [],
   "source": [
    "pdm_failures = pdm_failures[(pdm_failures['datetime'] > start) & (pdm_failures['datetime'] <= end)]\n",
    "pdm_maint = pdm_maint[(pdm_maint['datetime'] > start) & (pdm_maint['datetime'] <= end)]"
   ]
  },
  {
   "cell_type": "code",
   "execution_count": 381,
   "metadata": {},
   "outputs": [
    {
     "name": "stdout",
     "output_type": "stream",
     "text": [
      "baseline_total_cost_unnecessary_maintenance: k$ 140.4\n",
      "baseline_total_cost_appropriate_maintenance: k$ 2340.0\n",
      "baseline_total_cost_run_to_failure: k$ 7830.0\n",
      "baseline_total_cost k$: 10310.4\n",
      "Average Cost per Machine: k$ 103.104\n"
     ]
    }
   ],
   "source": [
    "n_maint = pdm_maint['datetime'].nunique()\n",
    "n_failures = pdm_failures['datetime'].nunique()\n",
    "# Assuming 30% of maintenances are unnecessary\n",
    "n_unnecessary = 0.3*n_maint\n",
    "\n",
    "baseline_total_cost_unnecessary_maintenance = unnecessary_maintenance * n_unnecessary\n",
    "baseline_total_cost_appropriate_maintenance = appropriate_maintenance * n_maint\n",
    "baseline_total_cost_run_to_failure = run_to_failure * n_failures\n",
    "\n",
    "baseline_total_cost = baseline_total_cost_appropriate_maintenance + baseline_total_cost_run_to_failure + baseline_total_cost_unnecessary_maintenance\n",
    "\n",
    "\n",
    "print(\"baseline_total_cost_unnecessary_maintenance: k$\", baseline_total_cost_unnecessary_maintenance/1e3)\n",
    "print(\"baseline_total_cost_appropriate_maintenance: k$\", baseline_total_cost_appropriate_maintenance/1e3)\n",
    "print(\"baseline_total_cost_run_to_failure: k$\", baseline_total_cost_run_to_failure/1e3)\n",
    "print(\"baseline_total_cost k$:\", baseline_total_cost/1e3)\n",
    "\n",
    "print('Average Cost per Machine: k$', (baseline_total_cost/1e3)/100)\n"
   ]
  },
  {
   "attachments": {},
   "cell_type": "markdown",
   "metadata": {},
   "source": [
    "### Practical Application"
   ]
  },
  {
   "cell_type": "code",
   "execution_count": 382,
   "metadata": {},
   "outputs": [],
   "source": [
    "y_oot_pred = model_pipe.predict_proba(df_oot.drop(['target', 'dtRef', 'machineID'], axis = 1))"
   ]
  },
  {
   "cell_type": "code",
   "execution_count": 383,
   "metadata": {},
   "outputs": [
    {
     "name": "stderr",
     "output_type": "stream",
     "text": [
      "C:\\Users\\BRUM\\AppData\\Local\\Temp\\ipykernel_21960\\814655387.py:1: SettingWithCopyWarning: \n",
      "A value is trying to be set on a copy of a slice from a DataFrame.\n",
      "Try using .loc[row_indexer,col_indexer] = value instead\n",
      "\n",
      "See the caveats in the documentation: https://pandas.pydata.org/pandas-docs/stable/user_guide/indexing.html#returning-a-view-versus-a-copy\n",
      "  df_oot['proba'] = y_oot_pred[:, 1]\n"
     ]
    }
   ],
   "source": [
    "df_oot['proba'] = y_oot_pred[:, 1]"
   ]
  },
  {
   "cell_type": "code",
   "execution_count": 390,
   "metadata": {},
   "outputs": [],
   "source": [
    "# 51, 19, 99, 85, 82\n",
    "df_oot2 = df_oot[['dtRef', 'machineID', 'proba', 'target']]\n",
    "machine = 51"
   ]
  },
  {
   "cell_type": "code",
   "execution_count": 391,
   "metadata": {},
   "outputs": [],
   "source": [
    "df_oot2 = df_oot2[df_oot2['machineID'] == machine]\n",
    "\n",
    "warning_signal_day = df_oot2.loc[df_oot2[df_oot2['proba'] > 0.1].index[0], 'dtRef']\n",
    "real_failure_day = df_oot2.loc[df_oot2[df_oot2['target'] == 1].index[-1], 'dtRef']\n",
    "\n",
    "daysdiff = (pd.to_datetime(real_failure_day) - pd.to_datetime(warning_signal_day))/ pd.Timedelta(days = 1)\n"
   ]
  },
  {
   "cell_type": "code",
   "execution_count": 392,
   "metadata": {},
   "outputs": [],
   "source": [
    "import seaborn as sns\n",
    "import matplotlib.pyplot as plt"
   ]
  },
  {
   "cell_type": "code",
   "execution_count": 393,
   "metadata": {},
   "outputs": [
    {
     "data": {
      "text/plain": [
       "7"
      ]
     },
     "execution_count": 393,
     "metadata": {},
     "output_type": "execute_result"
    }
   ],
   "source": [
    "midpoint_index"
   ]
  },
  {
   "cell_type": "code",
   "execution_count": 396,
   "metadata": {},
   "outputs": [
    {
     "data": {
      "text/plain": [
       "Text(0.5, 1.0, 'Machine 51')"
      ]
     },
     "execution_count": 396,
     "metadata": {},
     "output_type": "execute_result"
    },
    {
     "data": {
      "image/png": "[encoded data removed]",
      "text/plain": [
       "<Figure size 1000x500 with 1 Axes>"
      ]
     },
     "metadata": {},
     "output_type": "display_data"
    }
   ],
   "source": [
    "# Get the index positions of the dates\n",
    "warning_signal_index = df_oot2.reset_index().index[df_oot2['dtRef'] == warning_signal_day][0]\n",
    "real_failure_index = df_oot2.reset_index().index[df_oot2['dtRef'] == real_failure_day][0]\n",
    "\n",
    "# Calculate the midpoint index\n",
    "midpoint_index = (warning_signal_index + real_failure_index) // 2\n",
    "\n",
    "\n",
    "plt.figure(1, figsize=(10, 5))\n",
    "sns.lineplot(x='dtRef', y='target', data=df_oot2, label='true')\n",
    "sns.lineplot(x='dtRef', y='proba', data=df_oot2, label='prob')\n",
    "plt.axhline(0.1, linestyle='--', color='k', label='threshold')\n",
    "plt.axvline(warning_signal_day, color='b', label='predictive warning')\n",
    "plt.axvline(real_failure_day, color='r', label='real failure')\n",
    "\n",
    "plt.xticks(rotation=90)\n",
    "plt.legend()\n",
    "\n",
    "# Add annotation for predictive warning\n",
    "plt.text(warning_signal_day, 0.7, 'Predictive Warning', color='b', verticalalignment='top', rotation=90)\n",
    "\n",
    "# Add annotation for real failure\n",
    "plt.text(real_failure_day, 0.7, 'Real Failure', color='r', verticalalignment='top', rotation=90)\n",
    "\n",
    "# Add label at the midpoint\n",
    "plt.text(midpoint_index, 0.5, f'{int(daysdiff)} days before', color='g', ha='center', va='top')\n",
    "\n",
    "plt.title('Machine ' + str(machine))"
   ]
  },
  {
   "cell_type": "code",
   "execution_count": 395,
   "metadata": {},
   "outputs": [
    {
     "data": {
      "text/html": [
       "<div>\n",
       "<style scoped>\n",
       "    .dataframe tbody tr th:only-of-type {\n",
       "        vertical-align: middle;\n",
       "    }\n",
       "\n",
       "    .dataframe tbody tr th {\n",
       "        vertical-align: top;\n",
       "    }\n",
       "\n",
       "    .dataframe thead th {\n",
       "        text-align: right;\n",
       "    }\n",
       "</style>\n",
       "<table border=\"1\" class=\"dataframe\">\n",
       "  <thead>\n",
       "    <tr style=\"text-align: right;\">\n",
       "      <th></th>\n",
       "      <th>dtRef</th>\n",
       "      <th>machineID</th>\n",
       "      <th>proba</th>\n",
       "      <th>target</th>\n",
       "    </tr>\n",
       "  </thead>\n",
       "  <tbody>\n",
       "    <tr>\n",
       "      <th>30650</th>\n",
       "      <td>2015-12-05</td>\n",
       "      <td>51</td>\n",
       "      <td>0.247400</td>\n",
       "      <td>1.0</td>\n",
       "    </tr>\n",
       "    <tr>\n",
       "      <th>30750</th>\n",
       "      <td>2015-12-06</td>\n",
       "      <td>51</td>\n",
       "      <td>0.285544</td>\n",
       "      <td>1.0</td>\n",
       "    </tr>\n",
       "    <tr>\n",
       "      <th>30850</th>\n",
       "      <td>2015-12-07</td>\n",
       "      <td>51</td>\n",
       "      <td>0.262776</td>\n",
       "      <td>1.0</td>\n",
       "    </tr>\n",
       "    <tr>\n",
       "      <th>30950</th>\n",
       "      <td>2015-12-08</td>\n",
       "      <td>51</td>\n",
       "      <td>0.257654</td>\n",
       "      <td>1.0</td>\n",
       "    </tr>\n",
       "    <tr>\n",
       "      <th>31050</th>\n",
       "      <td>2015-12-09</td>\n",
       "      <td>51</td>\n",
       "      <td>0.257882</td>\n",
       "      <td>1.0</td>\n",
       "    </tr>\n",
       "    <tr>\n",
       "      <th>31150</th>\n",
       "      <td>2015-12-10</td>\n",
       "      <td>51</td>\n",
       "      <td>0.253213</td>\n",
       "      <td>1.0</td>\n",
       "    </tr>\n",
       "    <tr>\n",
       "      <th>31250</th>\n",
       "      <td>2015-12-11</td>\n",
       "      <td>51</td>\n",
       "      <td>0.586893</td>\n",
       "      <td>1.0</td>\n",
       "    </tr>\n",
       "    <tr>\n",
       "      <th>31350</th>\n",
       "      <td>2015-12-12</td>\n",
       "      <td>51</td>\n",
       "      <td>0.832452</td>\n",
       "      <td>1.0</td>\n",
       "    </tr>\n",
       "  </tbody>\n",
       "</table>\n",
       "</div>"
      ],
      "text/plain": [
       "            dtRef  machineID     proba  target\n",
       "30650  2015-12-05         51  0.247400     1.0\n",
       "30750  2015-12-06         51  0.285544     1.0\n",
       "30850  2015-12-07         51  0.262776     1.0\n",
       "30950  2015-12-08         51  0.257654     1.0\n",
       "31050  2015-12-09         51  0.257882     1.0\n",
       "31150  2015-12-10         51  0.253213     1.0\n",
       "31250  2015-12-11         51  0.586893     1.0\n",
       "31350  2015-12-12         51  0.832452     1.0"
      ]
     },
     "execution_count": 395,
     "metadata": {},
     "output_type": "execute_result"
    }
   ],
   "source": [
    "df_oot2[df_oot2['proba'] > 0.2]"
   ]
  },
  {
   "attachments": {},
   "cell_type": "markdown",
   "metadata": {},
   "source": [
    "### Consideration"
   ]
  },
  {
   "attachments": {},
   "cell_type": "markdown",
   "metadata": {},
   "source": [
    "- The validation is not good, need to change to time-series structure.\n",
    "- The model is very useful on the OOT base."
   ]
  }
 ],
 "metadata": {
  "kernelspec": {
   "display_name": "pred-maintenance",
   "language": "python",
   "name": "python3"
  },
  "language_info": {
   "codemirror_mode": {
    "name": "ipython",
    "version": 3
   },
   "file_extension": ".py",
   "mimetype": "text/x-python",
   "name": "python",
   "nbconvert_exporter": "python",
   "pygments_lexer": "ipython3",
   "version": "3.11.3"
  },
  "orig_nbformat": 4
 },
 "nbformat": 4,
 "nbformat_minor": 2
}
